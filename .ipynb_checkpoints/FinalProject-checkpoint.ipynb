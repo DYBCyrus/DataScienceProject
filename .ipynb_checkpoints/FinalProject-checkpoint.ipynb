{
 "cells": [
  {
   "cell_type": "markdown",
   "metadata": {},
   "source": [
    "# COGS108 - Final Project"
   ]
  },
  {
   "cell_type": "markdown",
   "metadata": {},
   "source": [
    "## Team Members:\n",
    "- A13712124: Yaobang Deng \n",
    "- A14057703: Jiaxiao Zhou \n",
    "- A92048017: Yuqi Kang\n",
    "- A13801210: Zhongyu Chen \n",
    "- A14128051: Yiming Zhang "
   ]
  },
  {
   "cell_type": "markdown",
   "metadata": {},
   "source": [
    "# Introduction and Background"
   ]
  },
  {
   "cell_type": "markdown",
   "metadata": {},
   "source": [
    "### Background:\n",
    "\n",
    "As we all know, winning Oscar boosts a movie’s reputation hugely. Best picture award is always deemed as a quality-guarantee for a movie. However, most of the time, public's taste seem to differ from the Oscar's: many oscar winning movies are suprisingly obsure to the public and only when they win the Oscar would people be able to recognize them. This leave us to ponder on a question: is an award still valuable if it is not representing the public opinion? Therefore, by analyzing rating and other attributes of the movies over the past 10 years, we want to get some insight on the correlation of public rating, critic rating and the Oscar awards. \n",
    "\n",
    "References:\n",
    "- 1) https://www.quora.com/What-is-the-lowest-IMDb-rated-movie-that-won-an-Oscar\n",
    "- 2) http://www.metacritic.com/feature/how-often-does-the-best-film-win-the-best-picture-oscar\n",
    "\n",
    "- The first reference lists out the worst oscar-winning movies' rating on IMDB (particularly, those whose rating were under 7.0), giving us a visualization on how large the portion of moderate-rated movies actually won the Oscar best picture. Deducing from the fact that no best picture get a rating lower than 7.2 ever since 1964, we predict that the best picture are usually not too bad in terms of viewers' taste. \n",
    "- However, as the second reference points out, the chance of the highest rating movies on IMDB winning the Academy Award is as low as 15%. This leads us to another prediction that high rating from the viewers does not garantee an Oscar best picture award. "
   ]
  },
  {
   "cell_type": "markdown",
   "metadata": {},
   "source": [
    "### Research Question:\n",
    "What is the relationship between the public reviews of the movie and the authorities views of the movie? \n",
    "\n",
    "More specifically, do Oscar-winning-and-nomineeing movies always get positive feedbacks from its viewers or the correlations will be different under different movie genres or revenues?"
   ]
  },
  {
   "cell_type": "markdown",
   "metadata": {},
   "source": [
    "### Hypothesis: \n",
    "We predict that the Oscar award does not have a strong relationships with the viewers ratings. In other words, the winners of Academy award for the best picture, though almost never get too low in rating, were usually not listed the highest on IMDB that year, while the IMDB most favorable movies seldom ended up winnning the best picture award."
   ]
  },
  {
   "cell_type": "markdown",
   "metadata": {},
   "source": [
    "# Data Description"
   ]
  },
  {
   "cell_type": "markdown",
   "metadata": {},
   "source": [
    "#### Dataset Name: IMDB-Movie-Data\n",
    "\n",
    "This dataset contains the information of 1000 movies produced from 2006 to 2016. \n",
    "Each data row has the following columns:\n",
    "    Title; Genre; Description; Directors; Actors; Year; Runtime; Rating; Votes; Revenue; Metascore.\n",
    "\n",
    "Link to the dataset: https://www.kaggle.com/PromptCloudHQ/imdb-data\n",
    "\n",
    "For our research question, we choose to use these columns:\n",
    "1. Title - moive name\n",
    "2. Genre\n",
    "3. Year - the year the moive is produced, as a time indicator when we do data cleaning\n",
    "4. Rating - the public review\n",
    "5. Revenue\n",
    "6. Metascore - moive critic rating\n",
    "\n",
    "The deficiency of this dataset is that it has some empty cells.\n",
    "\n",
    "\n",
    "#### Dataset Name: database\n",
    "\n",
    "This dataset contains the information of 9965 movies that are in the range of nomination of Oscar ( Academy ) award from 1927 to 2015.\n",
    "Each data row has the following columns:\n",
    "    Year; Ceremony; Award; Winner; Name; Film\n",
    "\n",
    "Link to the dataset: https://www.kaggle.com/theacademy/academy-awards/data\n",
    "\n",
    "For our research question, we choose to use these columns:\n",
    "1. Year - the year of Oscar award/the moive was produced\n",
    "2. Ceremony - used as a filter for year, to the time of moives in this dataset correspond to that in IMDB\n",
    "2. Award - the type of award\n",
    "3. Winner - whether or not the nominated moive is the winner, denoted by 1\n",
    "4. Name - the actor name/the moive title\n",
    "5. Film - the moive title/the actor name\n",
    "    \n",
    "This dataset is not as clean and organized as the IMDB dataset. Besides having empty cells and garbage characters, there are three major concerns in this dataset:\n",
    "1. The name of movies could be either in the Name column or in the Film column, depending on the type of Award\n",
    "2. When the Award is about music, the actual movie name is presented in the following format:\n",
    "        \"XXXX(Song name)\" from XXXX(Moive name)\n",
    "3. There are some types of awards which is not for a certain movie"
   ]
  },
  {
   "cell_type": "code",
   "execution_count": 99,
   "metadata": {
    "collapsed": false
   },
   "outputs": [],
   "source": [
    "#import stuffs\n",
    "%matplotlib inline\n",
    "\n",
    "import numpy as np\n",
    "import pandas as pd\n",
    "import matplotlib.pyplot as plt\n",
    "import sys\n",
    "import IPython\n",
    "\n",
    "import patsy\n",
    "import statsmodels.api as sm\n",
    "import scipy.stats as stats\n",
    "from scipy.stats import ttest_ind, chisquare, normaltest\n",
    "\n",
    "import nltk\n",
    "from nltk.tokenize import word_tokenize\n",
    "from nltk.corpus import stopwords\n",
    "\n",
    "from sklearn.svm import SVC\n",
    "from sklearn.feature_extraction.text import CountVectorizer, TfidfVectorizer\n",
    "from sklearn.metrics import classification_report, precision_recall_fscore_support"
   ]
  },
  {
   "cell_type": "markdown",
   "metadata": {},
   "source": [
    "# Data Cleaning/Pre-Processing"
   ]
  },
  {
   "cell_type": "markdown",
   "metadata": {},
   "source": [
    "### Part 1: IMDB"
   ]
  },
  {
   "cell_type": "code",
   "execution_count": 100,
   "metadata": {
    "collapsed": false
   },
   "outputs": [
    {
     "data": {
      "text/html": [
       "<div>\n",
       "<style>\n",
       "    .dataframe thead tr:only-child th {\n",
       "        text-align: right;\n",
       "    }\n",
       "\n",
       "    .dataframe thead th {\n",
       "        text-align: left;\n",
       "    }\n",
       "\n",
       "    .dataframe tbody tr th {\n",
       "        vertical-align: top;\n",
       "    }\n",
       "</style>\n",
       "<table border=\"1\" class=\"dataframe\">\n",
       "  <thead>\n",
       "    <tr style=\"text-align: right;\">\n",
       "      <th></th>\n",
       "      <th>Rank</th>\n",
       "      <th>Title</th>\n",
       "      <th>Genre</th>\n",
       "      <th>Description</th>\n",
       "      <th>Director</th>\n",
       "      <th>Actors</th>\n",
       "      <th>Year</th>\n",
       "      <th>Runtime (Minutes)</th>\n",
       "      <th>Rating</th>\n",
       "      <th>Votes</th>\n",
       "      <th>Revenue (Millions)</th>\n",
       "      <th>Metascore</th>\n",
       "    </tr>\n",
       "  </thead>\n",
       "  <tbody>\n",
       "    <tr>\n",
       "      <th>0</th>\n",
       "      <td>1</td>\n",
       "      <td>Guardians of the Galaxy</td>\n",
       "      <td>Action,Adventure,Sci-Fi</td>\n",
       "      <td>A group of intergalactic criminals are forced ...</td>\n",
       "      <td>James Gunn</td>\n",
       "      <td>Chris Pratt, Vin Diesel, Bradley Cooper, Zoe S...</td>\n",
       "      <td>2014</td>\n",
       "      <td>121</td>\n",
       "      <td>8.1</td>\n",
       "      <td>757074</td>\n",
       "      <td>333.13</td>\n",
       "      <td>76.0</td>\n",
       "    </tr>\n",
       "    <tr>\n",
       "      <th>1</th>\n",
       "      <td>2</td>\n",
       "      <td>Prometheus</td>\n",
       "      <td>Adventure,Mystery,Sci-Fi</td>\n",
       "      <td>Following clues to the origin of mankind, a te...</td>\n",
       "      <td>Ridley Scott</td>\n",
       "      <td>Noomi Rapace, Logan Marshall-Green, Michael Fa...</td>\n",
       "      <td>2012</td>\n",
       "      <td>124</td>\n",
       "      <td>7.0</td>\n",
       "      <td>485820</td>\n",
       "      <td>126.46</td>\n",
       "      <td>65.0</td>\n",
       "    </tr>\n",
       "    <tr>\n",
       "      <th>2</th>\n",
       "      <td>3</td>\n",
       "      <td>Split</td>\n",
       "      <td>Horror,Thriller</td>\n",
       "      <td>Three girls are kidnapped by a man with a diag...</td>\n",
       "      <td>M. Night Shyamalan</td>\n",
       "      <td>James McAvoy, Anya Taylor-Joy, Haley Lu Richar...</td>\n",
       "      <td>2016</td>\n",
       "      <td>117</td>\n",
       "      <td>7.3</td>\n",
       "      <td>157606</td>\n",
       "      <td>138.12</td>\n",
       "      <td>62.0</td>\n",
       "    </tr>\n",
       "    <tr>\n",
       "      <th>3</th>\n",
       "      <td>4</td>\n",
       "      <td>Sing</td>\n",
       "      <td>Animation,Comedy,Family</td>\n",
       "      <td>In a city of humanoid animals, a hustling thea...</td>\n",
       "      <td>Christophe Lourdelet</td>\n",
       "      <td>Matthew McConaughey,Reese Witherspoon, Seth Ma...</td>\n",
       "      <td>2016</td>\n",
       "      <td>108</td>\n",
       "      <td>7.2</td>\n",
       "      <td>60545</td>\n",
       "      <td>270.32</td>\n",
       "      <td>59.0</td>\n",
       "    </tr>\n",
       "    <tr>\n",
       "      <th>4</th>\n",
       "      <td>5</td>\n",
       "      <td>Suicide Squad</td>\n",
       "      <td>Action,Adventure,Fantasy</td>\n",
       "      <td>A secret government agency recruits some of th...</td>\n",
       "      <td>David Ayer</td>\n",
       "      <td>Will Smith, Jared Leto, Margot Robbie, Viola D...</td>\n",
       "      <td>2016</td>\n",
       "      <td>123</td>\n",
       "      <td>6.2</td>\n",
       "      <td>393727</td>\n",
       "      <td>325.02</td>\n",
       "      <td>40.0</td>\n",
       "    </tr>\n",
       "  </tbody>\n",
       "</table>\n",
       "</div>"
      ],
      "text/plain": [
       "   Rank                    Title                     Genre  \\\n",
       "0     1  Guardians of the Galaxy   Action,Adventure,Sci-Fi   \n",
       "1     2               Prometheus  Adventure,Mystery,Sci-Fi   \n",
       "2     3                    Split           Horror,Thriller   \n",
       "3     4                     Sing   Animation,Comedy,Family   \n",
       "4     5            Suicide Squad  Action,Adventure,Fantasy   \n",
       "\n",
       "                                         Description              Director  \\\n",
       "0  A group of intergalactic criminals are forced ...            James Gunn   \n",
       "1  Following clues to the origin of mankind, a te...          Ridley Scott   \n",
       "2  Three girls are kidnapped by a man with a diag...    M. Night Shyamalan   \n",
       "3  In a city of humanoid animals, a hustling thea...  Christophe Lourdelet   \n",
       "4  A secret government agency recruits some of th...            David Ayer   \n",
       "\n",
       "                                              Actors  Year  Runtime (Minutes)  \\\n",
       "0  Chris Pratt, Vin Diesel, Bradley Cooper, Zoe S...  2014                121   \n",
       "1  Noomi Rapace, Logan Marshall-Green, Michael Fa...  2012                124   \n",
       "2  James McAvoy, Anya Taylor-Joy, Haley Lu Richar...  2016                117   \n",
       "3  Matthew McConaughey,Reese Witherspoon, Seth Ma...  2016                108   \n",
       "4  Will Smith, Jared Leto, Margot Robbie, Viola D...  2016                123   \n",
       "\n",
       "   Rating   Votes  Revenue (Millions)  Metascore  \n",
       "0     8.1  757074              333.13       76.0  \n",
       "1     7.0  485820              126.46       65.0  \n",
       "2     7.3  157606              138.12       62.0  \n",
       "3     7.2   60545              270.32       59.0  \n",
       "4     6.2  393727              325.02       40.0  "
      ]
     },
     "execution_count": 100,
     "metadata": {},
     "output_type": "execute_result"
    }
   ],
   "source": [
    "# load imdb dataset\n",
    "IMDB_path = \"IMDB-Movie-Data.csv\"\n",
    "IMDB_dataset = pd.read_csv(IMDB_path)\n",
    "\n",
    "IMDB_dataset.head()"
   ]
  },
  {
   "cell_type": "code",
   "execution_count": 101,
   "metadata": {
    "collapsed": false
   },
   "outputs": [
    {
     "data": {
      "text/html": [
       "<div>\n",
       "<style>\n",
       "    .dataframe thead tr:only-child th {\n",
       "        text-align: right;\n",
       "    }\n",
       "\n",
       "    .dataframe thead th {\n",
       "        text-align: left;\n",
       "    }\n",
       "\n",
       "    .dataframe tbody tr th {\n",
       "        vertical-align: top;\n",
       "    }\n",
       "</style>\n",
       "<table border=\"1\" class=\"dataframe\">\n",
       "  <thead>\n",
       "    <tr style=\"text-align: right;\">\n",
       "      <th></th>\n",
       "      <th>title</th>\n",
       "      <th>genre</th>\n",
       "      <th>director</th>\n",
       "      <th>actors</th>\n",
       "      <th>year</th>\n",
       "      <th>duration</th>\n",
       "      <th>rate</th>\n",
       "      <th>votes</th>\n",
       "      <th>revenue</th>\n",
       "      <th>meta</th>\n",
       "    </tr>\n",
       "  </thead>\n",
       "  <tbody>\n",
       "    <tr>\n",
       "      <th>0</th>\n",
       "      <td>Guardians of the Galaxy</td>\n",
       "      <td>Action,Adventure,Sci-Fi</td>\n",
       "      <td>James Gunn</td>\n",
       "      <td>Chris Pratt, Vin Diesel, Bradley Cooper, Zoe S...</td>\n",
       "      <td>2014</td>\n",
       "      <td>121</td>\n",
       "      <td>81.0</td>\n",
       "      <td>757074</td>\n",
       "      <td>333.13</td>\n",
       "      <td>76.0</td>\n",
       "    </tr>\n",
       "    <tr>\n",
       "      <th>1</th>\n",
       "      <td>Prometheus</td>\n",
       "      <td>Adventure,Mystery,Sci-Fi</td>\n",
       "      <td>Ridley Scott</td>\n",
       "      <td>Noomi Rapace, Logan Marshall-Green, Michael Fa...</td>\n",
       "      <td>2012</td>\n",
       "      <td>124</td>\n",
       "      <td>70.0</td>\n",
       "      <td>485820</td>\n",
       "      <td>126.46</td>\n",
       "      <td>65.0</td>\n",
       "    </tr>\n",
       "    <tr>\n",
       "      <th>2</th>\n",
       "      <td>Interstellar</td>\n",
       "      <td>Adventure,Drama,Sci-Fi</td>\n",
       "      <td>Christopher Nolan</td>\n",
       "      <td>Matthew McConaughey, Anne Hathaway, Jessica Ch...</td>\n",
       "      <td>2014</td>\n",
       "      <td>169</td>\n",
       "      <td>86.0</td>\n",
       "      <td>1047747</td>\n",
       "      <td>187.99</td>\n",
       "      <td>74.0</td>\n",
       "    </tr>\n",
       "    <tr>\n",
       "      <th>3</th>\n",
       "      <td>Pirates of the Caribbean: On Stranger Tides</td>\n",
       "      <td>Action,Adventure,Fantasy</td>\n",
       "      <td>Rob Marshall</td>\n",
       "      <td>Johnny Depp, Penélope Cruz, Ian McShane, Geoff...</td>\n",
       "      <td>2011</td>\n",
       "      <td>136</td>\n",
       "      <td>67.0</td>\n",
       "      <td>395025</td>\n",
       "      <td>241.06</td>\n",
       "      <td>45.0</td>\n",
       "    </tr>\n",
       "    <tr>\n",
       "      <th>4</th>\n",
       "      <td>Star Wars: Episode VII - The Force Awakens</td>\n",
       "      <td>Action,Adventure,Fantasy</td>\n",
       "      <td>J.J. Abrams</td>\n",
       "      <td>Daisy Ridley, John Boyega, Oscar Isaac, Domhna...</td>\n",
       "      <td>2015</td>\n",
       "      <td>136</td>\n",
       "      <td>81.0</td>\n",
       "      <td>661608</td>\n",
       "      <td>936.63</td>\n",
       "      <td>81.0</td>\n",
       "    </tr>\n",
       "  </tbody>\n",
       "</table>\n",
       "</div>"
      ],
      "text/plain": [
       "                                         title                     genre  \\\n",
       "0                      Guardians of the Galaxy   Action,Adventure,Sci-Fi   \n",
       "1                                   Prometheus  Adventure,Mystery,Sci-Fi   \n",
       "2                                 Interstellar    Adventure,Drama,Sci-Fi   \n",
       "3  Pirates of the Caribbean: On Stranger Tides  Action,Adventure,Fantasy   \n",
       "4   Star Wars: Episode VII - The Force Awakens  Action,Adventure,Fantasy   \n",
       "\n",
       "            director                                             actors  year  \\\n",
       "0         James Gunn  Chris Pratt, Vin Diesel, Bradley Cooper, Zoe S...  2014   \n",
       "1       Ridley Scott  Noomi Rapace, Logan Marshall-Green, Michael Fa...  2012   \n",
       "2  Christopher Nolan  Matthew McConaughey, Anne Hathaway, Jessica Ch...  2014   \n",
       "3       Rob Marshall  Johnny Depp, Penélope Cruz, Ian McShane, Geoff...  2011   \n",
       "4        J.J. Abrams  Daisy Ridley, John Boyega, Oscar Isaac, Domhna...  2015   \n",
       "\n",
       "   duration  rate    votes  revenue  meta  \n",
       "0       121  81.0   757074   333.13  76.0  \n",
       "1       124  70.0   485820   126.46  65.0  \n",
       "2       169  86.0  1047747   187.99  74.0  \n",
       "3       136  67.0   395025   241.06  45.0  \n",
       "4       136  81.0   661608   936.63  81.0  "
      ]
     },
     "execution_count": 101,
     "metadata": {},
     "output_type": "execute_result"
    }
   ],
   "source": [
    "# drop irrevalent columns\n",
    "IMDB_dataset.drop(axis=1, labels=['Rank','Description'], inplace=True)\n",
    "\n",
    "# rename the columns\n",
    "IMDB_dataset.columns = ['title','genre','director','actors','year','duration','rate','votes','revenue','meta']\n",
    "\n",
    "# drop the rows whose meta score is null\n",
    "IMDB_dataset.dropna(inplace=True,subset=['meta'])\n",
    "\n",
    "# drop 2016 movies in IMDB since they don't appear in Oscar dataset\n",
    "IMDB_dataset = IMDB_dataset[IMDB_dataset['year'] != 2016]\n",
    "\n",
    "# reset the row index\n",
    "IMDB_dataset.reset_index(drop=True,inplace=True)\n",
    "\n",
    "# scale the rate column up by a factor of 10\n",
    "IMDB_dataset['rate'] = IMDB_dataset['rate'] * 10\n",
    "\n",
    "IMDB_dataset.head()"
   ]
  },
  {
   "cell_type": "code",
   "execution_count": 102,
   "metadata": {
    "collapsed": true
   },
   "outputs": [],
   "source": [
    "# function that strip the white space of the string\n",
    "def strip(name) :\n",
    "    return str(name).strip()"
   ]
  },
  {
   "cell_type": "code",
   "execution_count": 103,
   "metadata": {
    "collapsed": true
   },
   "outputs": [],
   "source": [
    "# function that turn string to lower case\n",
    "def lower(name):\n",
    "    return str(name).lower()"
   ]
  },
  {
   "cell_type": "code",
   "execution_count": 104,
   "metadata": {
    "collapsed": false
   },
   "outputs": [
    {
     "data": {
      "text/html": [
       "<div>\n",
       "<style>\n",
       "    .dataframe thead tr:only-child th {\n",
       "        text-align: right;\n",
       "    }\n",
       "\n",
       "    .dataframe thead th {\n",
       "        text-align: left;\n",
       "    }\n",
       "\n",
       "    .dataframe tbody tr th {\n",
       "        vertical-align: top;\n",
       "    }\n",
       "</style>\n",
       "<table border=\"1\" class=\"dataframe\">\n",
       "  <thead>\n",
       "    <tr style=\"text-align: right;\">\n",
       "      <th></th>\n",
       "      <th>title</th>\n",
       "      <th>genre</th>\n",
       "      <th>director</th>\n",
       "      <th>actors</th>\n",
       "      <th>year</th>\n",
       "      <th>duration</th>\n",
       "      <th>rate</th>\n",
       "      <th>votes</th>\n",
       "      <th>revenue</th>\n",
       "      <th>meta</th>\n",
       "    </tr>\n",
       "  </thead>\n",
       "  <tbody>\n",
       "    <tr>\n",
       "      <th>0</th>\n",
       "      <td>guardians of the galaxy</td>\n",
       "      <td>Action,Adventure,Sci-Fi</td>\n",
       "      <td>James Gunn</td>\n",
       "      <td>Chris Pratt, Vin Diesel, Bradley Cooper, Zoe S...</td>\n",
       "      <td>2014</td>\n",
       "      <td>121</td>\n",
       "      <td>81.0</td>\n",
       "      <td>757074</td>\n",
       "      <td>333.13</td>\n",
       "      <td>76.0</td>\n",
       "    </tr>\n",
       "    <tr>\n",
       "      <th>1</th>\n",
       "      <td>prometheus</td>\n",
       "      <td>Adventure,Mystery,Sci-Fi</td>\n",
       "      <td>Ridley Scott</td>\n",
       "      <td>Noomi Rapace, Logan Marshall-Green, Michael Fa...</td>\n",
       "      <td>2012</td>\n",
       "      <td>124</td>\n",
       "      <td>70.0</td>\n",
       "      <td>485820</td>\n",
       "      <td>126.46</td>\n",
       "      <td>65.0</td>\n",
       "    </tr>\n",
       "    <tr>\n",
       "      <th>2</th>\n",
       "      <td>interstellar</td>\n",
       "      <td>Adventure,Drama,Sci-Fi</td>\n",
       "      <td>Christopher Nolan</td>\n",
       "      <td>Matthew McConaughey, Anne Hathaway, Jessica Ch...</td>\n",
       "      <td>2014</td>\n",
       "      <td>169</td>\n",
       "      <td>86.0</td>\n",
       "      <td>1047747</td>\n",
       "      <td>187.99</td>\n",
       "      <td>74.0</td>\n",
       "    </tr>\n",
       "    <tr>\n",
       "      <th>3</th>\n",
       "      <td>pirates of the caribbean: on stranger tides</td>\n",
       "      <td>Action,Adventure,Fantasy</td>\n",
       "      <td>Rob Marshall</td>\n",
       "      <td>Johnny Depp, Penélope Cruz, Ian McShane, Geoff...</td>\n",
       "      <td>2011</td>\n",
       "      <td>136</td>\n",
       "      <td>67.0</td>\n",
       "      <td>395025</td>\n",
       "      <td>241.06</td>\n",
       "      <td>45.0</td>\n",
       "    </tr>\n",
       "    <tr>\n",
       "      <th>4</th>\n",
       "      <td>star wars: episode vii - the force awakens</td>\n",
       "      <td>Action,Adventure,Fantasy</td>\n",
       "      <td>J.J. Abrams</td>\n",
       "      <td>Daisy Ridley, John Boyega, Oscar Isaac, Domhna...</td>\n",
       "      <td>2015</td>\n",
       "      <td>136</td>\n",
       "      <td>81.0</td>\n",
       "      <td>661608</td>\n",
       "      <td>936.63</td>\n",
       "      <td>81.0</td>\n",
       "    </tr>\n",
       "  </tbody>\n",
       "</table>\n",
       "</div>"
      ],
      "text/plain": [
       "                                         title                     genre  \\\n",
       "0                      guardians of the galaxy   Action,Adventure,Sci-Fi   \n",
       "1                                   prometheus  Adventure,Mystery,Sci-Fi   \n",
       "2                                 interstellar    Adventure,Drama,Sci-Fi   \n",
       "3  pirates of the caribbean: on stranger tides  Action,Adventure,Fantasy   \n",
       "4   star wars: episode vii - the force awakens  Action,Adventure,Fantasy   \n",
       "\n",
       "            director                                             actors  year  \\\n",
       "0         James Gunn  Chris Pratt, Vin Diesel, Bradley Cooper, Zoe S...  2014   \n",
       "1       Ridley Scott  Noomi Rapace, Logan Marshall-Green, Michael Fa...  2012   \n",
       "2  Christopher Nolan  Matthew McConaughey, Anne Hathaway, Jessica Ch...  2014   \n",
       "3       Rob Marshall  Johnny Depp, Penélope Cruz, Ian McShane, Geoff...  2011   \n",
       "4        J.J. Abrams  Daisy Ridley, John Boyega, Oscar Isaac, Domhna...  2015   \n",
       "\n",
       "   duration  rate    votes  revenue  meta  \n",
       "0       121  81.0   757074   333.13  76.0  \n",
       "1       124  70.0   485820   126.46  65.0  \n",
       "2       169  86.0  1047747   187.99  74.0  \n",
       "3       136  67.0   395025   241.06  45.0  \n",
       "4       136  81.0   661608   936.63  81.0  "
      ]
     },
     "execution_count": 104,
     "metadata": {},
     "output_type": "execute_result"
    }
   ],
   "source": [
    "# Strip the leading and ending white space in title column\n",
    "IMDB_dataset[\"title\"] = IMDB_dataset[\"title\"].apply(strip)\n",
    "\n",
    "# Transform the title column into all lower case\n",
    "IMDB_dataset[\"title\"] = IMDB_dataset[\"title\"].apply(lower)\n",
    "\n",
    "IMDB_dataset.head()"
   ]
  },
  {
   "cell_type": "markdown",
   "metadata": {},
   "source": [
    "### Part 2: Oscar"
   ]
  },
  {
   "cell_type": "code",
   "execution_count": 105,
   "metadata": {
    "collapsed": false,
    "scrolled": false
   },
   "outputs": [
    {
     "data": {
      "text/html": [
       "<div>\n",
       "<style>\n",
       "    .dataframe thead tr:only-child th {\n",
       "        text-align: right;\n",
       "    }\n",
       "\n",
       "    .dataframe thead th {\n",
       "        text-align: left;\n",
       "    }\n",
       "\n",
       "    .dataframe tbody tr th {\n",
       "        vertical-align: top;\n",
       "    }\n",
       "</style>\n",
       "<table border=\"1\" class=\"dataframe\">\n",
       "  <thead>\n",
       "    <tr style=\"text-align: right;\">\n",
       "      <th></th>\n",
       "      <th>Year</th>\n",
       "      <th>Ceremony</th>\n",
       "      <th>Award</th>\n",
       "      <th>Winner</th>\n",
       "      <th>Name</th>\n",
       "      <th>Film</th>\n",
       "    </tr>\n",
       "  </thead>\n",
       "  <tbody>\n",
       "    <tr>\n",
       "      <th>0</th>\n",
       "      <td>1927/1928</td>\n",
       "      <td>1</td>\n",
       "      <td>Actor</td>\n",
       "      <td>NaN</td>\n",
       "      <td>Richard Barthelmess</td>\n",
       "      <td>The Noose</td>\n",
       "    </tr>\n",
       "    <tr>\n",
       "      <th>1</th>\n",
       "      <td>1927/1928</td>\n",
       "      <td>1</td>\n",
       "      <td>Actor</td>\n",
       "      <td>1.0</td>\n",
       "      <td>Emil Jannings</td>\n",
       "      <td>The Last Command</td>\n",
       "    </tr>\n",
       "    <tr>\n",
       "      <th>2</th>\n",
       "      <td>1927/1928</td>\n",
       "      <td>1</td>\n",
       "      <td>Actress</td>\n",
       "      <td>NaN</td>\n",
       "      <td>Louise Dresser</td>\n",
       "      <td>A Ship Comes In</td>\n",
       "    </tr>\n",
       "    <tr>\n",
       "      <th>3</th>\n",
       "      <td>1927/1928</td>\n",
       "      <td>1</td>\n",
       "      <td>Actress</td>\n",
       "      <td>1.0</td>\n",
       "      <td>Janet Gaynor</td>\n",
       "      <td>7th Heaven</td>\n",
       "    </tr>\n",
       "    <tr>\n",
       "      <th>4</th>\n",
       "      <td>1927/1928</td>\n",
       "      <td>1</td>\n",
       "      <td>Actress</td>\n",
       "      <td>NaN</td>\n",
       "      <td>Gloria Swanson</td>\n",
       "      <td>Sadie Thompson</td>\n",
       "    </tr>\n",
       "  </tbody>\n",
       "</table>\n",
       "</div>"
      ],
      "text/plain": [
       "        Year  Ceremony    Award  Winner                 Name              Film\n",
       "0  1927/1928         1    Actor     NaN  Richard Barthelmess         The Noose\n",
       "1  1927/1928         1    Actor     1.0        Emil Jannings  The Last Command\n",
       "2  1927/1928         1  Actress     NaN       Louise Dresser   A Ship Comes In\n",
       "3  1927/1928         1  Actress     1.0         Janet Gaynor        7th Heaven\n",
       "4  1927/1928         1  Actress     NaN       Gloria Swanson    Sadie Thompson"
      ]
     },
     "execution_count": 105,
     "metadata": {},
     "output_type": "execute_result"
    }
   ],
   "source": [
    "# load the Oscars dataframe\n",
    "Oscars_path = \"database.csv\"\n",
    "Oscars_dataset = pd.read_csv(Oscars_path)\n",
    "\n",
    "Oscars_dataset.head()"
   ]
  },
  {
   "cell_type": "code",
   "execution_count": 106,
   "metadata": {
    "collapsed": false
   },
   "outputs": [
    {
     "data": {
      "text/html": [
       "<div>\n",
       "<style>\n",
       "    .dataframe thead tr:only-child th {\n",
       "        text-align: right;\n",
       "    }\n",
       "\n",
       "    .dataframe thead th {\n",
       "        text-align: left;\n",
       "    }\n",
       "\n",
       "    .dataframe tbody tr th {\n",
       "        vertical-align: top;\n",
       "    }\n",
       "</style>\n",
       "<table border=\"1\" class=\"dataframe\">\n",
       "  <thead>\n",
       "    <tr style=\"text-align: right;\">\n",
       "      <th></th>\n",
       "      <th>year</th>\n",
       "      <th>ceremony</th>\n",
       "      <th>award</th>\n",
       "      <th>winner</th>\n",
       "      <th>name</th>\n",
       "      <th>film</th>\n",
       "    </tr>\n",
       "  </thead>\n",
       "  <tbody>\n",
       "    <tr>\n",
       "      <th>0</th>\n",
       "      <td>2006</td>\n",
       "      <td>79</td>\n",
       "      <td>Actor in a Leading Role</td>\n",
       "      <td>0.0</td>\n",
       "      <td>Leonardo DiCaprio</td>\n",
       "      <td>Blood Diamond</td>\n",
       "    </tr>\n",
       "    <tr>\n",
       "      <th>1</th>\n",
       "      <td>2006</td>\n",
       "      <td>79</td>\n",
       "      <td>Actor in a Leading Role</td>\n",
       "      <td>0.0</td>\n",
       "      <td>Ryan Gosling</td>\n",
       "      <td>Half Nelson</td>\n",
       "    </tr>\n",
       "    <tr>\n",
       "      <th>2</th>\n",
       "      <td>2006</td>\n",
       "      <td>79</td>\n",
       "      <td>Actor in a Leading Role</td>\n",
       "      <td>0.0</td>\n",
       "      <td>Peter O'Toole</td>\n",
       "      <td>Venus</td>\n",
       "    </tr>\n",
       "    <tr>\n",
       "      <th>3</th>\n",
       "      <td>2006</td>\n",
       "      <td>79</td>\n",
       "      <td>Actor in a Leading Role</td>\n",
       "      <td>0.0</td>\n",
       "      <td>Will Smith</td>\n",
       "      <td>The Pursuit of Happyness</td>\n",
       "    </tr>\n",
       "    <tr>\n",
       "      <th>4</th>\n",
       "      <td>2006</td>\n",
       "      <td>79</td>\n",
       "      <td>Actor in a Leading Role</td>\n",
       "      <td>1.0</td>\n",
       "      <td>Forest Whitaker</td>\n",
       "      <td>The Last King of Scotland</td>\n",
       "    </tr>\n",
       "  </tbody>\n",
       "</table>\n",
       "</div>"
      ],
      "text/plain": [
       "   year  ceremony                    award  winner               name  \\\n",
       "0  2006        79  Actor in a Leading Role     0.0  Leonardo DiCaprio   \n",
       "1  2006        79  Actor in a Leading Role     0.0       Ryan Gosling   \n",
       "2  2006        79  Actor in a Leading Role     0.0      Peter O'Toole   \n",
       "3  2006        79  Actor in a Leading Role     0.0         Will Smith   \n",
       "4  2006        79  Actor in a Leading Role     1.0    Forest Whitaker   \n",
       "\n",
       "                        film  \n",
       "0              Blood Diamond  \n",
       "1                Half Nelson  \n",
       "2                      Venus  \n",
       "3   The Pursuit of Happyness  \n",
       "4  The Last King of Scotland  "
      ]
     },
     "execution_count": 106,
     "metadata": {},
     "output_type": "execute_result"
    }
   ],
   "source": [
    "# rename the columns\n",
    "Oscars_dataset.columns = ['year','ceremony','award','winner','name','film']\n",
    "\n",
    "# replace NaN in winner columns with 0, denoting that this nominee did not win the award\n",
    "Oscars_dataset.fillna({'winner': 0},inplace=True)\n",
    "\n",
    "# drop rows that represent awards prior to year of 2006\n",
    "Oscars_dataset = Oscars_dataset[Oscars_dataset['ceremony'].astype(int) > 78]\n",
    "\n",
    "# reset the rows index\n",
    "Oscars_dataset.reset_index(drop=True,inplace=True)\n",
    "\n",
    "Oscars_dataset.head()"
   ]
  },
  {
   "cell_type": "code",
   "execution_count": 107,
   "metadata": {
    "collapsed": false
   },
   "outputs": [
    {
     "data": {
      "text/html": [
       "<div>\n",
       "<style>\n",
       "    .dataframe thead tr:only-child th {\n",
       "        text-align: right;\n",
       "    }\n",
       "\n",
       "    .dataframe thead th {\n",
       "        text-align: left;\n",
       "    }\n",
       "\n",
       "    .dataframe tbody tr th {\n",
       "        vertical-align: top;\n",
       "    }\n",
       "</style>\n",
       "<table border=\"1\" class=\"dataframe\">\n",
       "  <thead>\n",
       "    <tr style=\"text-align: right;\">\n",
       "      <th></th>\n",
       "      <th>year</th>\n",
       "      <th>ceremony</th>\n",
       "      <th>award</th>\n",
       "      <th>winner</th>\n",
       "      <th>name</th>\n",
       "      <th>film</th>\n",
       "    </tr>\n",
       "  </thead>\n",
       "  <tbody>\n",
       "    <tr>\n",
       "      <th>0</th>\n",
       "      <td>2006</td>\n",
       "      <td>79</td>\n",
       "      <td>Actor in a Leading Role</td>\n",
       "      <td>0.0</td>\n",
       "      <td>leonardo dicaprio</td>\n",
       "      <td>blood diamond</td>\n",
       "    </tr>\n",
       "    <tr>\n",
       "      <th>1</th>\n",
       "      <td>2006</td>\n",
       "      <td>79</td>\n",
       "      <td>Actor in a Leading Role</td>\n",
       "      <td>0.0</td>\n",
       "      <td>ryan gosling</td>\n",
       "      <td>half nelson</td>\n",
       "    </tr>\n",
       "    <tr>\n",
       "      <th>2</th>\n",
       "      <td>2006</td>\n",
       "      <td>79</td>\n",
       "      <td>Actor in a Leading Role</td>\n",
       "      <td>0.0</td>\n",
       "      <td>peter o'toole</td>\n",
       "      <td>venus</td>\n",
       "    </tr>\n",
       "    <tr>\n",
       "      <th>3</th>\n",
       "      <td>2006</td>\n",
       "      <td>79</td>\n",
       "      <td>Actor in a Leading Role</td>\n",
       "      <td>0.0</td>\n",
       "      <td>will smith</td>\n",
       "      <td>the pursuit of happyness</td>\n",
       "    </tr>\n",
       "    <tr>\n",
       "      <th>4</th>\n",
       "      <td>2006</td>\n",
       "      <td>79</td>\n",
       "      <td>Actor in a Leading Role</td>\n",
       "      <td>1.0</td>\n",
       "      <td>forest whitaker</td>\n",
       "      <td>the last king of scotland</td>\n",
       "    </tr>\n",
       "  </tbody>\n",
       "</table>\n",
       "</div>"
      ],
      "text/plain": [
       "   year  ceremony                    award  winner               name  \\\n",
       "0  2006        79  Actor in a Leading Role     0.0  leonardo dicaprio   \n",
       "1  2006        79  Actor in a Leading Role     0.0       ryan gosling   \n",
       "2  2006        79  Actor in a Leading Role     0.0      peter o'toole   \n",
       "3  2006        79  Actor in a Leading Role     0.0         will smith   \n",
       "4  2006        79  Actor in a Leading Role     1.0    forest whitaker   \n",
       "\n",
       "                        film  \n",
       "0              blood diamond  \n",
       "1                half nelson  \n",
       "2                      venus  \n",
       "3   the pursuit of happyness  \n",
       "4  the last king of scotland  "
      ]
     },
     "execution_count": 107,
     "metadata": {},
     "output_type": "execute_result"
    }
   ],
   "source": [
    "# strip the leading and ending white space of name and film column\n",
    "Oscars_dataset[\"name\"] = Oscars_dataset[\"name\"].apply(strip)\n",
    "Oscars_dataset[\"film\"] = Oscars_dataset[\"film\"].apply(strip)\n",
    "\n",
    "# transform the name and film columns to all lower case\n",
    "Oscars_dataset[\"name\"] = Oscars_dataset[\"name\"].apply(lower)\n",
    "Oscars_dataset[\"film\"] = Oscars_dataset[\"film\"].apply(lower)\n",
    "\n",
    "Oscars_dataset.head()"
   ]
  },
  {
   "cell_type": "markdown",
   "metadata": {},
   "source": [
    "### Part 3: data combining"
   ]
  },
  {
   "cell_type": "code",
   "execution_count": 108,
   "metadata": {
    "collapsed": false
   },
   "outputs": [
    {
     "data": {
      "text/html": [
       "<div>\n",
       "<style>\n",
       "    .dataframe thead tr:only-child th {\n",
       "        text-align: right;\n",
       "    }\n",
       "\n",
       "    .dataframe thead th {\n",
       "        text-align: left;\n",
       "    }\n",
       "\n",
       "    .dataframe tbody tr th {\n",
       "        vertical-align: top;\n",
       "    }\n",
       "</style>\n",
       "<table border=\"1\" class=\"dataframe\">\n",
       "  <thead>\n",
       "    <tr style=\"text-align: right;\">\n",
       "      <th></th>\n",
       "      <th>title</th>\n",
       "      <th>genre</th>\n",
       "      <th>director</th>\n",
       "      <th>actors</th>\n",
       "      <th>year</th>\n",
       "      <th>duration</th>\n",
       "      <th>rate</th>\n",
       "      <th>votes</th>\n",
       "      <th>revenue</th>\n",
       "      <th>meta</th>\n",
       "    </tr>\n",
       "  </thead>\n",
       "  <tbody>\n",
       "    <tr>\n",
       "      <th>0</th>\n",
       "      <td>little miss sunshine</td>\n",
       "      <td>Comedy,Drama</td>\n",
       "      <td>Jonathan Dayton</td>\n",
       "      <td>Steve Carell, Toni Collette, Greg Kinnear, Abi...</td>\n",
       "      <td>2006</td>\n",
       "      <td>101</td>\n",
       "      <td>78.0</td>\n",
       "      <td>374044</td>\n",
       "      <td>59.89</td>\n",
       "      <td>80.0</td>\n",
       "    </tr>\n",
       "    <tr>\n",
       "      <th>1</th>\n",
       "      <td>happy feet</td>\n",
       "      <td>Animation,Comedy,Family</td>\n",
       "      <td>George Miller</td>\n",
       "      <td>Elijah Wood, Brittany Murphy, Hugh Jackman, Ro...</td>\n",
       "      <td>2006</td>\n",
       "      <td>108</td>\n",
       "      <td>65.0</td>\n",
       "      <td>141141</td>\n",
       "      <td>197.99</td>\n",
       "      <td>77.0</td>\n",
       "    </tr>\n",
       "    <tr>\n",
       "      <th>2</th>\n",
       "      <td>pan's labyrinth</td>\n",
       "      <td>Drama,Fantasy,War</td>\n",
       "      <td>Guillermo del Toro</td>\n",
       "      <td>Ivana Baquero, Ariadna Gil, Sergi López,Maribe...</td>\n",
       "      <td>2006</td>\n",
       "      <td>118</td>\n",
       "      <td>82.0</td>\n",
       "      <td>498879</td>\n",
       "      <td>37.62</td>\n",
       "      <td>98.0</td>\n",
       "    </tr>\n",
       "    <tr>\n",
       "      <th>3</th>\n",
       "      <td>marie antoinette</td>\n",
       "      <td>Biography,Drama,History</td>\n",
       "      <td>Sofia Coppola</td>\n",
       "      <td>Kirsten Dunst, Jason Schwartzman, Rip Torn, Ju...</td>\n",
       "      <td>2006</td>\n",
       "      <td>123</td>\n",
       "      <td>64.0</td>\n",
       "      <td>83941</td>\n",
       "      <td>15.96</td>\n",
       "      <td>65.0</td>\n",
       "    </tr>\n",
       "    <tr>\n",
       "      <th>4</th>\n",
       "      <td>the departed</td>\n",
       "      <td>Crime,Drama,Thriller</td>\n",
       "      <td>Martin Scorsese</td>\n",
       "      <td>Leonardo DiCaprio, Matt Damon, Jack Nicholson,...</td>\n",
       "      <td>2006</td>\n",
       "      <td>151</td>\n",
       "      <td>85.0</td>\n",
       "      <td>937414</td>\n",
       "      <td>132.37</td>\n",
       "      <td>85.0</td>\n",
       "    </tr>\n",
       "  </tbody>\n",
       "</table>\n",
       "</div>"
      ],
      "text/plain": [
       "                  title                    genre            director  \\\n",
       "0  little miss sunshine             Comedy,Drama     Jonathan Dayton   \n",
       "1            happy feet  Animation,Comedy,Family       George Miller   \n",
       "2       pan's labyrinth        Drama,Fantasy,War  Guillermo del Toro   \n",
       "3      marie antoinette  Biography,Drama,History       Sofia Coppola   \n",
       "4          the departed     Crime,Drama,Thriller     Martin Scorsese   \n",
       "\n",
       "                                              actors  year  duration  rate  \\\n",
       "0  Steve Carell, Toni Collette, Greg Kinnear, Abi...  2006       101  78.0   \n",
       "1  Elijah Wood, Brittany Murphy, Hugh Jackman, Ro...  2006       108  65.0   \n",
       "2  Ivana Baquero, Ariadna Gil, Sergi López,Maribe...  2006       118  82.0   \n",
       "3  Kirsten Dunst, Jason Schwartzman, Rip Torn, Ju...  2006       123  64.0   \n",
       "4  Leonardo DiCaprio, Matt Damon, Jack Nicholson,...  2006       151  85.0   \n",
       "\n",
       "    votes  revenue  meta  \n",
       "0  374044    59.89  80.0  \n",
       "1  141141   197.99  77.0  \n",
       "2  498879    37.62  98.0  \n",
       "3   83941    15.96  65.0  \n",
       "4  937414   132.37  85.0  "
      ]
     },
     "execution_count": 108,
     "metadata": {},
     "output_type": "execute_result"
    }
   ],
   "source": [
    "# combine the two dataframe to generate a new dataframe composed of all Oscar winners\n",
    "Oscar_all_winner = pd.DataFrame({})\n",
    "o1 = Oscars_dataset[Oscars_dataset['winner'] == 1]\n",
    "\n",
    "for name, film in zip(o1[\"name\"], o1[\"film\"]):\n",
    "    Oscar_all_winner = Oscar_all_winner.append(IMDB_dataset[IMDB_dataset[\"title\"] == name])\n",
    "    Oscar_all_winner = Oscar_all_winner.append(IMDB_dataset[IMDB_dataset[\"title\"] == film])\n",
    "\n",
    "# drop duplicates\n",
    "Oscar_all_winner.drop_duplicates(inplace=True)\n",
    "\n",
    "# reset index\n",
    "Oscar_all_winner.reset_index(drop=True, inplace=True)\n",
    "\n",
    "Oscar_all_winner.head()"
   ]
  },
  {
   "cell_type": "code",
   "execution_count": 109,
   "metadata": {
    "collapsed": false
   },
   "outputs": [
    {
     "data": {
      "text/html": [
       "<div>\n",
       "<style>\n",
       "    .dataframe thead tr:only-child th {\n",
       "        text-align: right;\n",
       "    }\n",
       "\n",
       "    .dataframe thead th {\n",
       "        text-align: left;\n",
       "    }\n",
       "\n",
       "    .dataframe tbody tr th {\n",
       "        vertical-align: top;\n",
       "    }\n",
       "</style>\n",
       "<table border=\"1\" class=\"dataframe\">\n",
       "  <thead>\n",
       "    <tr style=\"text-align: right;\">\n",
       "      <th></th>\n",
       "      <th>title</th>\n",
       "      <th>genre</th>\n",
       "      <th>director</th>\n",
       "      <th>actors</th>\n",
       "      <th>year</th>\n",
       "      <th>duration</th>\n",
       "      <th>rate</th>\n",
       "      <th>votes</th>\n",
       "      <th>revenue</th>\n",
       "      <th>meta</th>\n",
       "    </tr>\n",
       "  </thead>\n",
       "  <tbody>\n",
       "    <tr>\n",
       "      <th>0</th>\n",
       "      <td>blood diamond</td>\n",
       "      <td>Adventure,Drama,Thriller</td>\n",
       "      <td>Edward Zwick</td>\n",
       "      <td>Leonardo DiCaprio, Djimon Hounsou, Jennifer Co...</td>\n",
       "      <td>2006</td>\n",
       "      <td>143</td>\n",
       "      <td>80.0</td>\n",
       "      <td>422014</td>\n",
       "      <td>57.37</td>\n",
       "      <td>64.0</td>\n",
       "    </tr>\n",
       "    <tr>\n",
       "      <th>1</th>\n",
       "      <td>the pursuit of happyness</td>\n",
       "      <td>Biography,Drama</td>\n",
       "      <td>Gabriele Muccino</td>\n",
       "      <td>Will Smith, Thandie Newton, Jaden Smith, Brian...</td>\n",
       "      <td>2006</td>\n",
       "      <td>117</td>\n",
       "      <td>80.0</td>\n",
       "      <td>361105</td>\n",
       "      <td>162.59</td>\n",
       "      <td>64.0</td>\n",
       "    </tr>\n",
       "    <tr>\n",
       "      <th>2</th>\n",
       "      <td>little miss sunshine</td>\n",
       "      <td>Comedy,Drama</td>\n",
       "      <td>Jonathan Dayton</td>\n",
       "      <td>Steve Carell, Toni Collette, Greg Kinnear, Abi...</td>\n",
       "      <td>2006</td>\n",
       "      <td>101</td>\n",
       "      <td>78.0</td>\n",
       "      <td>374044</td>\n",
       "      <td>59.89</td>\n",
       "      <td>80.0</td>\n",
       "    </tr>\n",
       "    <tr>\n",
       "      <th>3</th>\n",
       "      <td>the departed</td>\n",
       "      <td>Crime,Drama,Thriller</td>\n",
       "      <td>Martin Scorsese</td>\n",
       "      <td>Leonardo DiCaprio, Matt Damon, Jack Nicholson,...</td>\n",
       "      <td>2006</td>\n",
       "      <td>151</td>\n",
       "      <td>85.0</td>\n",
       "      <td>937414</td>\n",
       "      <td>132.37</td>\n",
       "      <td>85.0</td>\n",
       "    </tr>\n",
       "    <tr>\n",
       "      <th>4</th>\n",
       "      <td>the devil wears prada</td>\n",
       "      <td>Comedy,Drama</td>\n",
       "      <td>David Frankel</td>\n",
       "      <td>Anne Hathaway, Meryl Streep, Adrian Grenier, E...</td>\n",
       "      <td>2006</td>\n",
       "      <td>109</td>\n",
       "      <td>68.0</td>\n",
       "      <td>302268</td>\n",
       "      <td>124.73</td>\n",
       "      <td>62.0</td>\n",
       "    </tr>\n",
       "  </tbody>\n",
       "</table>\n",
       "</div>"
      ],
      "text/plain": [
       "                      title                     genre          director  \\\n",
       "0             blood diamond  Adventure,Drama,Thriller      Edward Zwick   \n",
       "1  the pursuit of happyness           Biography,Drama  Gabriele Muccino   \n",
       "2      little miss sunshine              Comedy,Drama   Jonathan Dayton   \n",
       "3              the departed      Crime,Drama,Thriller   Martin Scorsese   \n",
       "4     the devil wears prada              Comedy,Drama     David Frankel   \n",
       "\n",
       "                                              actors  year  duration  rate  \\\n",
       "0  Leonardo DiCaprio, Djimon Hounsou, Jennifer Co...  2006       143  80.0   \n",
       "1  Will Smith, Thandie Newton, Jaden Smith, Brian...  2006       117  80.0   \n",
       "2  Steve Carell, Toni Collette, Greg Kinnear, Abi...  2006       101  78.0   \n",
       "3  Leonardo DiCaprio, Matt Damon, Jack Nicholson,...  2006       151  85.0   \n",
       "4  Anne Hathaway, Meryl Streep, Adrian Grenier, E...  2006       109  68.0   \n",
       "\n",
       "    votes  revenue  meta  \n",
       "0  422014    57.37  64.0  \n",
       "1  361105   162.59  64.0  \n",
       "2  374044    59.89  80.0  \n",
       "3  937414   132.37  85.0  \n",
       "4  302268   124.73  62.0  "
      ]
     },
     "execution_count": 109,
     "metadata": {},
     "output_type": "execute_result"
    }
   ],
   "source": [
    "# combine the two dataframes to generate a new dataframe composed of all Oscar nominees\n",
    "Oscar_nominated = pd.DataFrame({})\n",
    "\n",
    "for name, film in zip(Oscars_dataset[\"name\"], Oscars_dataset[\"film\"]):\n",
    "    Oscar_nominated = Oscar_nominated.append(IMDB_dataset[IMDB_dataset[\"title\"] == name])\n",
    "    Oscar_nominated = Oscar_nominated.append(IMDB_dataset[IMDB_dataset[\"title\"] == film])\n",
    "    \n",
    "# drop duplicates\n",
    "Oscar_nominated.drop_duplicates(inplace=True)\n",
    "\n",
    "# reset index\n",
    "Oscar_nominated.reset_index(drop=True, inplace=True)\n",
    "\n",
    "Oscar_nominated.head()"
   ]
  },
  {
   "cell_type": "code",
   "execution_count": 110,
   "metadata": {
    "collapsed": false
   },
   "outputs": [
    {
     "data": {
      "text/html": [
       "<div>\n",
       "<style>\n",
       "    .dataframe thead tr:only-child th {\n",
       "        text-align: right;\n",
       "    }\n",
       "\n",
       "    .dataframe thead th {\n",
       "        text-align: left;\n",
       "    }\n",
       "\n",
       "    .dataframe tbody tr th {\n",
       "        vertical-align: top;\n",
       "    }\n",
       "</style>\n",
       "<table border=\"1\" class=\"dataframe\">\n",
       "  <thead>\n",
       "    <tr style=\"text-align: right;\">\n",
       "      <th></th>\n",
       "      <th>title</th>\n",
       "      <th>genre</th>\n",
       "      <th>director</th>\n",
       "      <th>actors</th>\n",
       "      <th>year</th>\n",
       "      <th>duration</th>\n",
       "      <th>rate</th>\n",
       "      <th>votes</th>\n",
       "      <th>revenue</th>\n",
       "      <th>meta</th>\n",
       "    </tr>\n",
       "  </thead>\n",
       "  <tbody>\n",
       "    <tr>\n",
       "      <th>0</th>\n",
       "      <td>pirates of the caribbean: on stranger tides</td>\n",
       "      <td>Action,Adventure,Fantasy</td>\n",
       "      <td>Rob Marshall</td>\n",
       "      <td>Johnny Depp, Penélope Cruz, Ian McShane, Geoff...</td>\n",
       "      <td>2011</td>\n",
       "      <td>136</td>\n",
       "      <td>67.0</td>\n",
       "      <td>395025</td>\n",
       "      <td>241.06</td>\n",
       "      <td>45.0</td>\n",
       "    </tr>\n",
       "    <tr>\n",
       "      <th>1</th>\n",
       "      <td>star wars: episode vii - the force awakens</td>\n",
       "      <td>Action,Adventure,Fantasy</td>\n",
       "      <td>J.J. Abrams</td>\n",
       "      <td>Daisy Ridley, John Boyega, Oscar Isaac, Domhna...</td>\n",
       "      <td>2015</td>\n",
       "      <td>136</td>\n",
       "      <td>81.0</td>\n",
       "      <td>661608</td>\n",
       "      <td>936.63</td>\n",
       "      <td>81.0</td>\n",
       "    </tr>\n",
       "    <tr>\n",
       "      <th>2</th>\n",
       "      <td>john wick</td>\n",
       "      <td>Action,Crime,Thriller</td>\n",
       "      <td>Chad Stahelski</td>\n",
       "      <td>Keanu Reeves, Michael Nyqvist, Alfie Allen, Wi...</td>\n",
       "      <td>2014</td>\n",
       "      <td>101</td>\n",
       "      <td>72.0</td>\n",
       "      <td>321933</td>\n",
       "      <td>43.00</td>\n",
       "      <td>68.0</td>\n",
       "    </tr>\n",
       "    <tr>\n",
       "      <th>3</th>\n",
       "      <td>fifty shades of grey</td>\n",
       "      <td>Drama,Romance,Thriller</td>\n",
       "      <td>Sam Taylor-Johnson</td>\n",
       "      <td>Dakota Johnson, Jamie Dornan, Jennifer Ehle,El...</td>\n",
       "      <td>2015</td>\n",
       "      <td>125</td>\n",
       "      <td>41.0</td>\n",
       "      <td>244474</td>\n",
       "      <td>166.15</td>\n",
       "      <td>46.0</td>\n",
       "    </tr>\n",
       "    <tr>\n",
       "      <th>4</th>\n",
       "      <td>kingsman: the secret service</td>\n",
       "      <td>Action,Adventure,Comedy</td>\n",
       "      <td>Matthew Vaughn</td>\n",
       "      <td>Colin Firth, Taron Egerton, Samuel L. Jackson,...</td>\n",
       "      <td>2014</td>\n",
       "      <td>129</td>\n",
       "      <td>77.0</td>\n",
       "      <td>440209</td>\n",
       "      <td>128.25</td>\n",
       "      <td>58.0</td>\n",
       "    </tr>\n",
       "  </tbody>\n",
       "</table>\n",
       "</div>"
      ],
      "text/plain": [
       "                                         title                     genre  \\\n",
       "0  pirates of the caribbean: on stranger tides  Action,Adventure,Fantasy   \n",
       "1   star wars: episode vii - the force awakens  Action,Adventure,Fantasy   \n",
       "2                                    john wick     Action,Crime,Thriller   \n",
       "3                         fifty shades of grey    Drama,Romance,Thriller   \n",
       "4                 kingsman: the secret service   Action,Adventure,Comedy   \n",
       "\n",
       "             director                                             actors  \\\n",
       "0        Rob Marshall  Johnny Depp, Penélope Cruz, Ian McShane, Geoff...   \n",
       "1         J.J. Abrams  Daisy Ridley, John Boyega, Oscar Isaac, Domhna...   \n",
       "2      Chad Stahelski  Keanu Reeves, Michael Nyqvist, Alfie Allen, Wi...   \n",
       "3  Sam Taylor-Johnson  Dakota Johnson, Jamie Dornan, Jennifer Ehle,El...   \n",
       "4      Matthew Vaughn  Colin Firth, Taron Egerton, Samuel L. Jackson,...   \n",
       "\n",
       "   year  duration  rate   votes  revenue  meta  \n",
       "0  2011       136  67.0  395025   241.06  45.0  \n",
       "1  2015       136  81.0  661608   936.63  81.0  \n",
       "2  2014       101  72.0  321933    43.00  68.0  \n",
       "3  2015       125  41.0  244474   166.15  46.0  \n",
       "4  2014       129  77.0  440209   128.25  58.0  "
      ]
     },
     "execution_count": 110,
     "metadata": {},
     "output_type": "execute_result"
    }
   ],
   "source": [
    "# combine the two dataframes to generate a new dataframe composed of all movies that are not nominated\n",
    "non_nominee = IMDB_dataset\n",
    "\n",
    "for name in Oscar_nominated['title']:\n",
    "    non_nominee = non_nominee[non_nominee['title'] != name]\n",
    "    \n",
    "# reset index\n",
    "non_nominee.reset_index(drop=True,inplace=True)\n",
    "\n",
    "non_nominee.head()"
   ]
  },
  {
   "cell_type": "markdown",
   "metadata": {},
   "source": [
    "# Data Visualization"
   ]
  },
  {
   "cell_type": "markdown",
   "metadata": {},
   "source": [
    "### Part 1: All movies in IMDB dataset"
   ]
  },
  {
   "cell_type": "code",
   "execution_count": 111,
   "metadata": {
    "collapsed": false
   },
   "outputs": [
    {
     "name": "stdout",
     "output_type": "stream",
     "text": [
      "------------IMDB Rate----------\n",
      " count    668.000000\n",
      "mean      68.344311\n",
      "std        8.914117\n",
      "min       19.000000\n",
      "25%       63.000000\n",
      "50%       69.000000\n",
      "75%       75.000000\n",
      "max       90.000000\n",
      "Name: rate, dtype: float64 \n",
      "\n",
      "------------IMDB Meta -----------\n",
      " count    668.000000\n",
      "mean      59.266467\n",
      "std       16.957773\n",
      "min       15.000000\n",
      "25%       47.000000\n",
      "50%       59.500000\n",
      "75%       72.000000\n",
      "max      100.000000\n",
      "Name: meta, dtype: float64\n"
     ]
    }
   ],
   "source": [
    "# Basic statistics\n",
    "rate_stats = IMDB_dataset['rate'].describe()\n",
    "meta_stats = IMDB_dataset['meta'].describe()\n",
    "print(\"------------IMDB Rate----------\\n\", rate_stats, \"\\n\")\n",
    "print(\"------------IMDB Meta -----------\\n\", meta_stats)"
   ]
  },
  {
   "cell_type": "code",
   "execution_count": 112,
   "metadata": {
    "collapsed": false
   },
   "outputs": [
    {
     "data": {
      "image/png": "[encoded data removed]",
      "text/plain": [
       "<matplotlib.figure.Figure at 0x26f41364d68>"
      ]
     },
     "metadata": {},
     "output_type": "display_data"
    }
   ],
   "source": [
    "# plot the scatter matrix for attributes in IMDB\n",
    "fd = pd.plotting.scatter_matrix(IMDB_dataset[['year', 'rate', 'meta']])"
   ]
  },
  {
   "cell_type": "code",
   "execution_count": 113,
   "metadata": {
    "collapsed": false
   },
   "outputs": [
    {
     "data": {
      "text/plain": [
       "(0, 125)"
      ]
     },
     "execution_count": 113,
     "metadata": {},
     "output_type": "execute_result"
    },
    {
     "data": {
      "image/png": "[encoded data removed]",
      "text/plain": [
       "<matplotlib.figure.Figure at 0x26f42815be0>"
      ]
     },
     "metadata": {},
     "output_type": "display_data"
    }
   ],
   "source": [
    "# plot the histogram of rates of movies \n",
    "_ = plt.hist(IMDB_dataset['rate'],25)\n",
    "plt.title(\"Rate Graph\")\n",
    "plt.xlabel(\"rate score\")\n",
    "plt.ylabel(\"# of movies\")\n",
    "\n",
    "f1 = plt.gca()\n",
    "f1.set_ylim([0,125])"
   ]
  },
  {
   "cell_type": "code",
   "execution_count": 114,
   "metadata": {
    "collapsed": false
   },
   "outputs": [
    {
     "data": {
      "text/plain": [
       "(0, 125)"
      ]
     },
     "execution_count": 114,
     "metadata": {},
     "output_type": "execute_result"
    },
    {
     "data": {
      "image/png": "[encoded data removed]",
      "text/plain": [
       "<matplotlib.figure.Figure at 0x26f448afeb8>"
      ]
     },
     "metadata": {},
     "output_type": "display_data"
    }
   ],
   "source": [
    "# plot the histogram of metascores of movies \n",
    "_ = plt.hist(IMDB_dataset['meta'],25)\n",
    "plt.title(\"Meta Graph\")\n",
    "plt.xlabel(\"meta score\")\n",
    "plt.ylabel(\"# of movies\")\n",
    "\n",
    "f2 = plt.gca()\n",
    "f2.set_ylim([0,125])"
   ]
  },
  {
   "cell_type": "code",
   "execution_count": 115,
   "metadata": {
    "collapsed": false
   },
   "outputs": [
    {
     "data": {
      "text/plain": [
       "(0, 1000)"
      ]
     },
     "execution_count": 115,
     "metadata": {},
     "output_type": "execute_result"
    },
    {
     "data": {
      "image/png": "[encoded data removed]",
      "text/plain": [
       "<matplotlib.figure.Figure at 0x26f42687978>"
      ]
     },
     "metadata": {},
     "output_type": "display_data"
    }
   ],
   "source": [
    "# plot the scatter plot for revenue and rate to see their relation\n",
    "plt.scatter(IMDB_dataset['revenue'], IMDB_dataset['rate'], alpha=0.5)\n",
    "plt.title(\"revenus (millions) vs rate\")\n",
    "f1 = plt.gca()\n",
    "f1.set_xlim([0,1000])"
   ]
  },
  {
   "cell_type": "code",
   "execution_count": 116,
   "metadata": {
    "collapsed": false
   },
   "outputs": [
    {
     "data": {
      "text/plain": [
       "(0, 1000)"
      ]
     },
     "execution_count": 116,
     "metadata": {},
     "output_type": "execute_result"
    },
    {
     "data": {
      "image/png": "[encoded data removed]",
      "text/plain": [
       "<matplotlib.figure.Figure at 0x26f4289acf8>"
      ]
     },
     "metadata": {},
     "output_type": "display_data"
    }
   ],
   "source": [
    "# plot the scatter plot for revenue and metascore to see their relation\n",
    "plt.scatter(IMDB_dataset['revenue'], IMDB_dataset['meta'], alpha=0.5)\n",
    "plt.title(\"revenus (millions) vs meta\")\n",
    "f1 = plt.gca()\n",
    "f1.set_xlim([0,1000])"
   ]
  },
  {
   "cell_type": "code",
   "execution_count": 117,
   "metadata": {
    "collapsed": true
   },
   "outputs": [],
   "source": [
    "# function that calculates the mean of certain attribute of each year\n",
    "def rateMeanPerYear(colName):\n",
    "    a = []\n",
    "    for year in range(2006,2017):\n",
    "        a.append(IMDB_dataset.loc[IMDB_dataset['year'] == year][colName].mean())\n",
    "    return a"
   ]
  },
  {
   "cell_type": "code",
   "execution_count": 118,
   "metadata": {
    "collapsed": false
   },
   "outputs": [
    {
     "data": {
      "image/png": "[encoded data removed]",
      "text/plain": [
       "<matplotlib.figure.Figure at 0x26f41665470>"
      ]
     },
     "metadata": {},
     "output_type": "display_data"
    }
   ],
   "source": [
    "# plot mean rates in each year\n",
    "plt.plot(rateMeanPerYear('rate'))\n",
    "plt.title(\"rate per year\") \n",
    "f1 = plt.gca()"
   ]
  },
  {
   "cell_type": "code",
   "execution_count": 119,
   "metadata": {
    "collapsed": false
   },
   "outputs": [
    {
     "data": {
      "image/png": "[encoded data removed]",
      "text/plain": [
       "<matplotlib.figure.Figure at 0x26f42b65a20>"
      ]
     },
     "metadata": {},
     "output_type": "display_data"
    }
   ],
   "source": [
    "# plot mean metascores in each year\n",
    "plt.plot(rateMeanPerYear('meta'))\n",
    "plt.title(\"meta per year\") \n",
    "f1 = plt.gca()"
   ]
  },
  {
   "cell_type": "markdown",
   "metadata": {},
   "source": [
    "### Part 2: Oscar nominated movies"
   ]
  },
  {
   "cell_type": "code",
   "execution_count": 120,
   "metadata": {
    "collapsed": false
   },
   "outputs": [
    {
     "name": "stdout",
     "output_type": "stream",
     "text": [
      "------------Oscar_nominated Rate----------\n",
      " count    164.000000\n",
      "mean      75.768293\n",
      "std        5.705016\n",
      "min       60.000000\n",
      "25%       73.000000\n",
      "50%       77.000000\n",
      "75%       80.000000\n",
      "max       90.000000\n",
      "Name: rate, dtype: float64 \n",
      "\n",
      "------------Oscar_nominated Meta -----------\n",
      " count    164.000000\n",
      "mean      74.536585\n",
      "std       12.260161\n",
      "min       35.000000\n",
      "25%       67.000000\n",
      "50%       76.000000\n",
      "75%       82.250000\n",
      "max      100.000000\n",
      "Name: meta, dtype: float64\n"
     ]
    }
   ],
   "source": [
    "# Basic statistics\n",
    "rate_stats = Oscar_nominated['rate'].describe()\n",
    "meta_stats = Oscar_nominated['meta'].describe()\n",
    "print(\"------------Oscar_nominated Rate----------\\n\", rate_stats, \"\\n\")\n",
    "print(\"------------Oscar_nominated Meta -----------\\n\", meta_stats)"
   ]
  },
  {
   "cell_type": "code",
   "execution_count": 121,
   "metadata": {
    "collapsed": false
   },
   "outputs": [
    {
     "data": {
      "image/png": "[encoded data removed]",
      "text/plain": [
       "<matplotlib.figure.Figure at 0x26f429ddeb8>"
      ]
     },
     "metadata": {},
     "output_type": "display_data"
    }
   ],
   "source": [
    "# plot the scatter matrix for attributes in Oscar_nominated dataset\n",
    "fd = pd.plotting.scatter_matrix(Oscar_nominated[['year', 'rate', 'meta']])"
   ]
  },
  {
   "cell_type": "code",
   "execution_count": 122,
   "metadata": {
    "collapsed": false
   },
   "outputs": [
    {
     "data": {
      "image/png": "[encoded data removed]",
      "text/plain": [
       "<matplotlib.figure.Figure at 0x26f428e7860>"
      ]
     },
     "metadata": {},
     "output_type": "display_data"
    }
   ],
   "source": [
    "# plot the histogram of rate of oscar nominated movies \n",
    "_ = plt.hist(Oscar_nominated['rate'],25)\n",
    "plt.title(\"Rate Graph\")\n",
    "plt.xlabel(\"rate score\")\n",
    "plt.ylabel(\"# of movies\")\n",
    "\n",
    "f1 = plt.gca()"
   ]
  },
  {
   "cell_type": "code",
   "execution_count": 123,
   "metadata": {
    "collapsed": false
   },
   "outputs": [
    {
     "data": {
      "text/plain": [
       "(0, 12)"
      ]
     },
     "execution_count": 123,
     "metadata": {},
     "output_type": "execute_result"
    },
    {
     "data": {
      "image/png": "[encoded data removed]",
      "text/plain": [
       "<matplotlib.figure.Figure at 0x26f41658e80>"
      ]
     },
     "metadata": {},
     "output_type": "display_data"
    }
   ],
   "source": [
    "# plot the histogram of metascores of oscar nominated movies \n",
    "_ = plt.hist(Oscar_nominated['meta'],25)\n",
    "plt.title(\"Meta Graph\")\n",
    "plt.xlabel(\"meta score\")\n",
    "plt.ylabel(\"# of movies\")\n",
    "\n",
    "f2 = plt.gca()\n",
    "f2.set_ylim([0,12])"
   ]
  },
  {
   "cell_type": "markdown",
   "metadata": {},
   "source": [
    "### Part 3: Oscar winners"
   ]
  },
  {
   "cell_type": "code",
   "execution_count": 124,
   "metadata": {
    "collapsed": false,
    "scrolled": true
   },
   "outputs": [
    {
     "name": "stdout",
     "output_type": "stream",
     "text": [
      "------------Oscar_all_winner Rate----------\n",
      " count    72.000000\n",
      "mean     77.750000\n",
      "std       5.375348\n",
      "min      61.000000\n",
      "25%      75.000000\n",
      "50%      78.000000\n",
      "75%      81.000000\n",
      "max      90.000000\n",
      "Name: rate, dtype: float64 \n",
      "\n",
      "------------Oscar_all_winner Meta -----------\n",
      " count     72.000000\n",
      "mean      79.569444\n",
      "std       11.796187\n",
      "min       51.000000\n",
      "25%       72.000000\n",
      "50%       81.000000\n",
      "75%       88.000000\n",
      "max      100.000000\n",
      "Name: meta, dtype: float64\n"
     ]
    }
   ],
   "source": [
    "# Basic statistics\n",
    "rate_stats = Oscar_all_winner['rate'].describe()\n",
    "meta_stats = Oscar_all_winner['meta'].describe()\n",
    "print(\"------------Oscar_all_winner Rate----------\\n\", rate_stats, \"\\n\")\n",
    "print(\"------------Oscar_all_winner Meta -----------\\n\", meta_stats)"
   ]
  },
  {
   "cell_type": "code",
   "execution_count": 125,
   "metadata": {
    "collapsed": false
   },
   "outputs": [
    {
     "data": {
      "image/png": "[encoded data removed]",
      "text/plain": [
       "<matplotlib.figure.Figure at 0x26f42a03cf8>"
      ]
     },
     "metadata": {},
     "output_type": "display_data"
    }
   ],
   "source": [
    "# plot the scatter matrix for attributes in Oscar_all_winner dataset\n",
    "fd = pd.plotting.scatter_matrix(Oscar_all_winner[['year', 'rate', 'meta']])"
   ]
  },
  {
   "cell_type": "code",
   "execution_count": 126,
   "metadata": {
    "collapsed": false
   },
   "outputs": [
    {
     "data": {
      "image/png": "[encoded data removed]",
      "text/plain": [
       "<matplotlib.figure.Figure at 0x26f436751d0>"
      ]
     },
     "metadata": {},
     "output_type": "display_data"
    }
   ],
   "source": [
    "# plot the histogram of rate of oscar winners\n",
    "_ = plt.hist(Oscar_all_winner['rate'],25)\n",
    "plt.title(\"Rate Graph\")\n",
    "plt.xlabel(\"rate score\")\n",
    "plt.ylabel(\"# of movies\")\n",
    "\n",
    "f1 = plt.gca()"
   ]
  },
  {
   "cell_type": "code",
   "execution_count": 127,
   "metadata": {
    "collapsed": false
   },
   "outputs": [
    {
     "data": {
      "text/plain": [
       "(0, 12)"
      ]
     },
     "execution_count": 127,
     "metadata": {},
     "output_type": "execute_result"
    },
    {
     "data": {
      "image/png": "[encoded data removed]",
      "text/plain": [
       "<matplotlib.figure.Figure at 0x26f45185128>"
      ]
     },
     "metadata": {},
     "output_type": "display_data"
    }
   ],
   "source": [
    "# plot the histogram of metascore of oscar winners\n",
    "_ = plt.hist(Oscar_all_winner['meta'],25)\n",
    "plt.title(\"Meta Graph\")\n",
    "plt.xlabel(\"meta score\")\n",
    "plt.ylabel(\"# of movies\")\n",
    "\n",
    "f2 = plt.gca()\n",
    "f2.set_ylim([0,12])"
   ]
  },
  {
   "cell_type": "markdown",
   "metadata": {},
   "source": [
    "# Data Analysis and Results"
   ]
  },
  {
   "cell_type": "code",
   "execution_count": 128,
   "metadata": {
    "collapsed": false
   },
   "outputs": [
    {
     "data": {
      "image/png": "[encoded data removed]",
      "text/plain": [
       "<matplotlib.figure.Figure at 0x26f42dfc438>"
      ]
     },
     "metadata": {},
     "output_type": "display_data"
    }
   ],
   "source": [
    "# revenue: meta / rate\n",
    "avg_rev = IMDB_dataset['revenue'].mean()\n",
    "std_rev = IMDB_dataset['revenue'].std()\n",
    "\n",
    "high_rev = avg_rev + 2*std_rev\n",
    "\n",
    "high_rev_df = IMDB_dataset.loc[IMDB_dataset['revenue'] >= high_rev] \n",
    "high_rev_df.reset_index(drop=True,inplace=True)\n",
    "\n",
    "\n",
    "rate = high_rev_df['rate'].describe()\n",
    "meta = high_rev_df['meta'].describe()\n",
    "\n",
    "# print(meta)\n",
    "\n",
    "fd = pd.plotting.scatter_matrix(high_rev_df[['revenue', 'rate', 'meta']])"
   ]
  },
  {
   "cell_type": "code",
   "execution_count": 129,
   "metadata": {
    "collapsed": false
   },
   "outputs": [
    {
     "name": "stdout",
     "output_type": "stream",
     "text": [
      "                            OLS Regression Results                            \n",
      "==============================================================================\n",
      "Dep. Variable:                   meta   R-squared:                       0.750\n",
      "Model:                            OLS   Adj. R-squared:                  0.721\n",
      "Method:                 Least Squares   F-statistic:                     26.03\n",
      "Date:                Thu, 22 Mar 2018   Prob (F-statistic):           5.41e-08\n",
      "Time:                        19:12:58   Log-Likelihood:                -100.50\n",
      "No. Observations:                  30   AIC:                             209.0\n",
      "Df Residuals:                      26   BIC:                             214.6\n",
      "Df Model:                           3                                         \n",
      "Covariance Type:            nonrobust                                         \n",
      "==============================================================================\n",
      "                 coef    std err          t      P>|t|      [0.025      0.975]\n",
      "------------------------------------------------------------------------------\n",
      "Intercept    -21.9855     15.921     -1.381      0.179     -54.711      10.740\n",
      "rate           1.5289      0.198      7.725      0.000       1.122       1.936\n",
      "revenue        0.0045      0.011      0.419      0.678      -0.017       0.026\n",
      "duration      -0.1893      0.068     -2.767      0.010      -0.330      -0.049\n",
      "==============================================================================\n",
      "Omnibus:                        1.959   Durbin-Watson:                   2.178\n",
      "Prob(Omnibus):                  0.376   Jarque-Bera (JB):                1.349\n",
      "Skew:                           0.275   Prob(JB):                        0.509\n",
      "Kurtosis:                       2.118   Cond. No.                     5.53e+03\n",
      "==============================================================================\n",
      "\n",
      "Warnings:\n",
      "[1] Standard Errors assume that the covariance matrix of the errors is correctly specified.\n",
      "[2] The condition number is large, 5.53e+03. This might indicate that there are\n",
      "strong multicollinearity or other numerical problems.\n"
     ]
    }
   ],
   "source": [
    "# Correlation analysis for high revenue movies\n",
    "outcome_1, predictors_1 = patsy.dmatrices('meta ~ rate + revenue + duration', high_rev_df)\n",
    "mod_all = sm.OLS(outcome_1, predictors_1)\n",
    "res_all = mod_all.fit()\n",
    "print(res_all.summary())"
   ]
  },
  {
   "cell_type": "markdown",
   "metadata": {},
   "source": [
    "### High Revenue Movies\n",
    "\n",
    "This data shows that in high revenue movies, meta score and public score are strongly correlated! \n",
    "The revenue itself is not correlated with the meta score, but the duration of the movie is. "
   ]
  },
  {
   "cell_type": "code",
   "execution_count": 130,
   "metadata": {
    "collapsed": false
   },
   "outputs": [
    {
     "data": {
      "text/html": [
       "<div>\n",
       "<style>\n",
       "    .dataframe thead tr:only-child th {\n",
       "        text-align: right;\n",
       "    }\n",
       "\n",
       "    .dataframe thead th {\n",
       "        text-align: left;\n",
       "    }\n",
       "\n",
       "    .dataframe tbody tr th {\n",
       "        vertical-align: top;\n",
       "    }\n",
       "</style>\n",
       "<table border=\"1\" class=\"dataframe\">\n",
       "  <thead>\n",
       "    <tr style=\"text-align: right;\">\n",
       "      <th></th>\n",
       "      <th>title</th>\n",
       "      <th>genre</th>\n",
       "      <th>director</th>\n",
       "      <th>actors</th>\n",
       "      <th>year</th>\n",
       "      <th>duration</th>\n",
       "      <th>rate</th>\n",
       "      <th>votes</th>\n",
       "      <th>revenue</th>\n",
       "      <th>meta</th>\n",
       "    </tr>\n",
       "  </thead>\n",
       "  <tbody>\n",
       "    <tr>\n",
       "      <th>0</th>\n",
       "      <td>babel</td>\n",
       "      <td>Drama</td>\n",
       "      <td>Alejandro González Iñárritu</td>\n",
       "      <td>Brad Pitt, Cate Blanchett, Gael García Bernal,...</td>\n",
       "      <td>2006</td>\n",
       "      <td>143</td>\n",
       "      <td>75.0</td>\n",
       "      <td>253417</td>\n",
       "      <td>34.30</td>\n",
       "      <td>69.0</td>\n",
       "    </tr>\n",
       "    <tr>\n",
       "      <th>1</th>\n",
       "      <td>the departed</td>\n",
       "      <td>Crime,Drama,Thriller</td>\n",
       "      <td>Martin Scorsese</td>\n",
       "      <td>Leonardo DiCaprio, Matt Damon, Jack Nicholson,...</td>\n",
       "      <td>2006</td>\n",
       "      <td>151</td>\n",
       "      <td>85.0</td>\n",
       "      <td>937414</td>\n",
       "      <td>132.37</td>\n",
       "      <td>85.0</td>\n",
       "    </tr>\n",
       "    <tr>\n",
       "      <th>2</th>\n",
       "      <td>little miss sunshine</td>\n",
       "      <td>Comedy,Drama</td>\n",
       "      <td>Jonathan Dayton</td>\n",
       "      <td>Steve Carell, Toni Collette, Greg Kinnear, Abi...</td>\n",
       "      <td>2006</td>\n",
       "      <td>101</td>\n",
       "      <td>78.0</td>\n",
       "      <td>374044</td>\n",
       "      <td>59.89</td>\n",
       "      <td>80.0</td>\n",
       "    </tr>\n",
       "    <tr>\n",
       "      <th>3</th>\n",
       "      <td>juno</td>\n",
       "      <td>Comedy,Drama</td>\n",
       "      <td>Jason Reitman</td>\n",
       "      <td>Ellen Page, Michael Cera, Jennifer Garner, Jas...</td>\n",
       "      <td>2007</td>\n",
       "      <td>96</td>\n",
       "      <td>75.0</td>\n",
       "      <td>432461</td>\n",
       "      <td>143.49</td>\n",
       "      <td>81.0</td>\n",
       "    </tr>\n",
       "    <tr>\n",
       "      <th>4</th>\n",
       "      <td>no country for old men</td>\n",
       "      <td>Crime,Drama,Thriller</td>\n",
       "      <td>Ethan Coen</td>\n",
       "      <td>Tommy Lee Jones, Javier Bardem, Josh Brolin, W...</td>\n",
       "      <td>2007</td>\n",
       "      <td>122</td>\n",
       "      <td>81.0</td>\n",
       "      <td>660286</td>\n",
       "      <td>74.27</td>\n",
       "      <td>91.0</td>\n",
       "    </tr>\n",
       "  </tbody>\n",
       "</table>\n",
       "</div>"
      ],
      "text/plain": [
       "                    title                 genre                     director  \\\n",
       "0                   babel                 Drama  Alejandro González Iñárritu   \n",
       "1            the departed  Crime,Drama,Thriller              Martin Scorsese   \n",
       "2    little miss sunshine          Comedy,Drama              Jonathan Dayton   \n",
       "3                    juno          Comedy,Drama                Jason Reitman   \n",
       "4  no country for old men  Crime,Drama,Thriller                   Ethan Coen   \n",
       "\n",
       "                                              actors  year  duration  rate  \\\n",
       "0  Brad Pitt, Cate Blanchett, Gael García Bernal,...  2006       143  75.0   \n",
       "1  Leonardo DiCaprio, Matt Damon, Jack Nicholson,...  2006       151  85.0   \n",
       "2  Steve Carell, Toni Collette, Greg Kinnear, Abi...  2006       101  78.0   \n",
       "3  Ellen Page, Michael Cera, Jennifer Garner, Jas...  2007        96  75.0   \n",
       "4  Tommy Lee Jones, Javier Bardem, Josh Brolin, W...  2007       122  81.0   \n",
       "\n",
       "    votes  revenue  meta  \n",
       "0  253417    34.30  69.0  \n",
       "1  937414   132.37  85.0  \n",
       "2  374044    59.89  80.0  \n",
       "3  432461   143.49  81.0  \n",
       "4  660286    74.27  91.0  "
      ]
     },
     "execution_count": 130,
     "metadata": {},
     "output_type": "execute_result"
    }
   ],
   "source": [
    "# Analyze the influence of the \"best picture\" award\n",
    "Oscar_best_pic = pd.DataFrame({})\n",
    "o1 = Oscars_dataset[Oscars_dataset['award'] == 'Best Picture']\n",
    "\n",
    "for name, film in zip(o1[\"name\"], o1[\"film\"]):\n",
    "    Oscar_best_pic = Oscar_best_pic.append(IMDB_dataset[IMDB_dataset[\"title\"] == name])\n",
    "    Oscar_best_pic = Oscar_best_pic.append(IMDB_dataset[IMDB_dataset[\"title\"] == film])\n",
    "\n",
    "Oscar_best_pic.drop_duplicates(inplace=True)\n",
    "Oscar_best_pic.reset_index(drop=True, inplace=True)\n",
    "\n",
    "Oscar_best_pic.head()"
   ]
  },
  {
   "cell_type": "code",
   "execution_count": 131,
   "metadata": {
    "collapsed": false,
    "scrolled": true
   },
   "outputs": [
    {
     "name": "stdout",
     "output_type": "stream",
     "text": [
      "meta statistics:\n",
      "count     57.000000\n",
      "mean      82.684211\n",
      "std        9.110743\n",
      "min       53.000000\n",
      "25%       79.000000\n",
      "50%       83.000000\n",
      "75%       88.000000\n",
      "max      100.000000\n",
      "Name: meta, dtype: float64\n",
      "rate statistics:\n",
      "count    57.000000\n",
      "mean     78.578947\n",
      "std       3.535268\n",
      "min      68.000000\n",
      "25%      76.000000\n",
      "50%      78.000000\n",
      "75%      81.000000\n",
      "max      88.000000\n",
      "Name: rate, dtype: float64\n"
     ]
    },
    {
     "data": {
      "image/png": "[encoded data removed]",
      "text/plain": [
       "<matplotlib.figure.Figure at 0x26f41382b70>"
      ]
     },
     "metadata": {},
     "output_type": "display_data"
    }
   ],
   "source": [
    "# Statistical analysis\n",
    "print(\"meta statistics:\")\n",
    "print(Oscar_best_pic['meta'].describe())\n",
    "print(\"rate statistics:\")\n",
    "print(Oscar_best_pic['rate'].describe())\n",
    "\n",
    "fd = pd.plotting.scatter_matrix(Oscar_best_pic[['revenue', 'rate', 'meta', 'duration']])"
   ]
  },
  {
   "cell_type": "code",
   "execution_count": 132,
   "metadata": {
    "collapsed": false
   },
   "outputs": [
    {
     "name": "stdout",
     "output_type": "stream",
     "text": [
      "                            OLS Regression Results                            \n",
      "==============================================================================\n",
      "Dep. Variable:                   meta   R-squared:                       0.068\n",
      "Model:                            OLS   Adj. R-squared:                  0.015\n",
      "Method:                 Least Squares   F-statistic:                     1.282\n",
      "Date:                Thu, 22 Mar 2018   Prob (F-statistic):              0.290\n",
      "Time:                        19:13:01   Log-Likelihood:                -204.32\n",
      "No. Observations:                  57   AIC:                             416.6\n",
      "Df Residuals:                      53   BIC:                             424.8\n",
      "Df Model:                           3                                         \n",
      "Covariance Type:            nonrobust                                         \n",
      "==============================================================================\n",
      "                 coef    std err          t      P>|t|      [0.025      0.975]\n",
      "------------------------------------------------------------------------------\n",
      "Intercept     85.5571     27.674      3.092      0.003      30.051     141.063\n",
      "rate           0.1199      0.345      0.348      0.729      -0.571       0.811\n",
      "revenue       -0.0107      0.010     -1.058      0.295      -0.031       0.010\n",
      "duration      -0.0849      0.057     -1.484      0.144      -0.200       0.030\n",
      "==============================================================================\n",
      "Omnibus:                        5.460   Durbin-Watson:                   1.967\n",
      "Prob(Omnibus):                  0.065   Jarque-Bera (JB):                4.484\n",
      "Skew:                          -0.554   Prob(JB):                        0.106\n",
      "Kurtosis:                       3.813   Cond. No.                     5.01e+03\n",
      "==============================================================================\n",
      "\n",
      "Warnings:\n",
      "[1] Standard Errors assume that the covariance matrix of the errors is correctly specified.\n",
      "[2] The condition number is large, 5.01e+03. This might indicate that there are\n",
      "strong multicollinearity or other numerical problems.\n"
     ]
    }
   ],
   "source": [
    "# Correlation for \"best picture\" nominated movies\n",
    "outcome_1, predictors_1 = patsy.dmatrices('meta ~ rate + revenue + duration', Oscar_best_pic)\n",
    "mod_all = sm.OLS(outcome_1, predictors_1)\n",
    "res_all = mod_all.fit()\n",
    "print(res_all.summary())"
   ]
  },
  {
   "cell_type": "markdown",
   "metadata": {},
   "source": [
    "### Best Picture Movies\n",
    "\n",
    "The lower correlation between the public socres and authority scores is a surprising. We think the reason for it is that authorities tend to be more parallel with the Academy's opinions. The revenue and duration of the movies did not appear to be strongly correlated with the meta scores either. "
   ]
  },
  {
   "cell_type": "code",
   "execution_count": 133,
   "metadata": {
    "collapsed": false
   },
   "outputs": [
    {
     "name": "stdout",
     "output_type": "stream",
     "text": [
      "[('Adventure', (190, 58.88421052631579, 167.18631578947367)), ('Romance', (102, 54.549019607843135, 45.663039215686304)), ('Comedy', (191, 57.481675392670155, 79.84623036649218)), ('Thriller', (129, 59.333333333333336, 73.90170542635656)), ('Crime', (105, 59.2, 67.75980952380951)), ('Drama', (328, 63.85060975609756, 55.33570121951215)), ('Action', (220, 55.00909090909091, 137.92240909090907))]\n"
     ]
    }
   ],
   "source": [
    "# extract the most frequent genre in the imdb dataset, calculate the average metascore and revenue.\n",
    "popular_genre_dict = dict()\n",
    "\n",
    "for index, row in IMDB_dataset.iterrows():\n",
    "    genre_list = row[\"genre\"].split(',')\n",
    "    for genre in genre_list:\n",
    "        if genre not in popular_genre_dict:\n",
    "            if not np.isnan(row[\"revenue\"]):\n",
    "                popular_genre_dict[genre] = (1,row[\"meta\"], row[\"revenue\"])\n",
    "            else:\n",
    "                popular_genre_dict[genre] = (1,row[\"meta\"], 0.0)\n",
    "        else:\n",
    "            value = popular_genre_dict[genre]\n",
    "            if not np.isnan(row[\"revenue\"]):\n",
    "                popular_genre_dict[genre] = (value[0]+1, value[1]+row[\"meta\"], value[2]+row[\"revenue\"])\n",
    "            else: \n",
    "                popular_genre_dict[genre] = (value[0]+1, value[1]+row[\"meta\"], value[2])\n",
    "                \n",
    "for k, v in list(popular_genre_dict.items()):\n",
    "    newtuple = (v[0], v[1]/v[0], v[2]/v[0])\n",
    "    popular_genre_dict[k] = newtuple\n",
    "    if v[0] <= 100:\n",
    "        del popular_genre_dict[k]\n",
    "popular_genre = list(popular_genre_dict.items())\n",
    "print(popular_genre)"
   ]
  },
  {
   "cell_type": "code",
   "execution_count": 134,
   "metadata": {
    "collapsed": false
   },
   "outputs": [
    {
     "name": "stdout",
     "output_type": "stream",
     "text": [
      "                            OLS Regression Results                            \n",
      "==============================================================================\n",
      "Dep. Variable:                   meta   R-squared:                       0.578\n",
      "Model:                            OLS   Adj. R-squared:                  0.572\n",
      "Method:                 Least Squares   F-statistic:                     96.38\n",
      "Date:                Thu, 22 Mar 2018   Prob (F-statistic):           2.54e-39\n",
      "Time:                        19:13:04   Log-Likelihood:                -797.34\n",
      "No. Observations:                 215   AIC:                             1603.\n",
      "Df Residuals:                     211   BIC:                             1616.\n",
      "Df Model:                           3                                         \n",
      "Covariance Type:            nonrobust                                         \n",
      "==============================================================================\n",
      "                 coef    std err          t      P>|t|      [0.025      0.975]\n",
      "------------------------------------------------------------------------------\n",
      "Intercept    -32.7885      7.043     -4.656      0.000     -46.672     -18.905\n",
      "rate           1.2758      0.091     14.032      0.000       1.097       1.455\n",
      "revenue        0.0145      0.006      2.388      0.018       0.003       0.026\n",
      "duration      -0.0003      0.046     -0.007      0.994      -0.091       0.091\n",
      "==============================================================================\n",
      "Omnibus:                       17.171   Durbin-Watson:                   2.034\n",
      "Prob(Omnibus):                  0.000   Jarque-Bera (JB):               22.394\n",
      "Skew:                           0.552   Prob(JB):                     1.37e-05\n",
      "Kurtosis:                       4.132   Cond. No.                     2.34e+03\n",
      "==============================================================================\n",
      "\n",
      "Warnings:\n",
      "[1] Standard Errors assume that the covariance matrix of the errors is correctly specified.\n",
      "[2] The condition number is large, 2.34e+03. This might indicate that there are\n",
      "strong multicollinearity or other numerical problems.\n"
     ]
    },
    {
     "data": {
      "image/png": "[encoded data removed]",
      "text/plain": [
       "<matplotlib.figure.Figure at 0x26f42e189e8>"
      ]
     },
     "metadata": {},
     "output_type": "display_data"
    }
   ],
   "source": [
    "# Analyze the correlation of different attribute in the scope of all action movies\n",
    "Action_data = IMDB_dataset[IMDB_dataset[\"genre\"].str.contains('Action')]\n",
    "fd = pd.plotting.scatter_matrix(Action_data[['revenue', 'rate', 'meta', 'duration']])\n",
    "\n",
    "outcome, predictors = patsy.dmatrices('meta ~ rate + revenue + duration', Action_data)\n",
    "mod_all = sm.OLS(outcome, predictors)\n",
    "res_all = mod_all.fit()\n",
    "print(res_all.summary())"
   ]
  },
  {
   "cell_type": "markdown",
   "metadata": {},
   "source": [
    "### Actions Movies\n",
    "\n",
    "The public views toward action movies are strongly correlated with the public views. It is interesting to see there is a strong correlation between the authority scores of the action movie and its revenue. High revenue movies win higher scores. "
   ]
  },
  {
   "cell_type": "code",
   "execution_count": 135,
   "metadata": {
    "collapsed": false
   },
   "outputs": [
    {
     "name": "stdout",
     "output_type": "stream",
     "text": [
      "                            OLS Regression Results                            \n",
      "==============================================================================\n",
      "Dep. Variable:                   meta   R-squared:                       0.630\n",
      "Model:                            OLS   Adj. R-squared:                  0.624\n",
      "Method:                 Least Squares   F-statistic:                     104.3\n",
      "Date:                Thu, 22 Mar 2018   Prob (F-statistic):           1.80e-39\n",
      "Time:                        19:13:07   Log-Likelihood:                -685.65\n",
      "No. Observations:                 188   AIC:                             1379.\n",
      "Df Residuals:                     184   BIC:                             1392.\n",
      "Df Model:                           3                                         \n",
      "Covariance Type:            nonrobust                                         \n",
      "==============================================================================\n",
      "                 coef    std err          t      P>|t|      [0.025      0.975]\n",
      "------------------------------------------------------------------------------\n",
      "Intercept    -23.0185      6.439     -3.575      0.000     -35.722     -10.315\n",
      "rate           1.3121      0.082     16.082      0.000       1.151       1.473\n",
      "revenue        0.0136      0.006      2.450      0.015       0.003       0.025\n",
      "duration      -0.0837      0.038     -2.206      0.029      -0.159      -0.009\n",
      "==============================================================================\n",
      "Omnibus:                       17.150   Durbin-Watson:                   1.978\n",
      "Prob(Omnibus):                  0.000   Jarque-Bera (JB):               20.693\n",
      "Skew:                           0.639   Prob(JB):                     3.21e-05\n",
      "Kurtosis:                       4.005   Cond. No.                     2.33e+03\n",
      "==============================================================================\n",
      "\n",
      "Warnings:\n",
      "[1] Standard Errors assume that the covariance matrix of the errors is correctly specified.\n",
      "[2] The condition number is large, 2.33e+03. This might indicate that there are\n",
      "strong multicollinearity or other numerical problems.\n"
     ]
    },
    {
     "data": {
      "image/png": "[encoded data removed]",
      "text/plain": [
       "<matplotlib.figure.Figure at 0x26f4292b128>"
      ]
     },
     "metadata": {},
     "output_type": "display_data"
    }
   ],
   "source": [
    "# Analyze the correlation of different attribute in the scope of all adventure movies\n",
    "Adventure_data = IMDB_dataset[IMDB_dataset[\"genre\"].str.contains('Adventure')]\n",
    "fd = pd.plotting.scatter_matrix(Adventure_data[['revenue', 'rate', 'meta', 'duration']])\n",
    "\n",
    "outcome, predictors = patsy.dmatrices('meta ~ rate + revenue + duration', Adventure_data)\n",
    "mod_all = sm.OLS(outcome, predictors)\n",
    "res_all = mod_all.fit()\n",
    "print(res_all.summary())"
   ]
  },
  {
   "cell_type": "markdown",
   "metadata": {},
   "source": [
    "### Advanture Movies\n",
    "\n",
    "Similar to the action movies, public views and authority views are strongly correlated. It is interesting to notice that the revenue and the duration of the movies are both correlated with the meta scores."
   ]
  },
  {
   "cell_type": "code",
   "execution_count": 136,
   "metadata": {
    "collapsed": false
   },
   "outputs": [
    {
     "name": "stdout",
     "output_type": "stream",
     "text": [
      "                            OLS Regression Results                            \n",
      "==============================================================================\n",
      "Dep. Variable:                   meta   R-squared:                       0.510\n",
      "Model:                            OLS   Adj. R-squared:                  0.502\n",
      "Method:                 Least Squares   F-statistic:                     62.80\n",
      "Date:                Thu, 22 Mar 2018   Prob (F-statistic):           7.07e-28\n",
      "Time:                        19:13:10   Log-Likelihood:                -720.02\n",
      "No. Observations:                 185   AIC:                             1448.\n",
      "Df Residuals:                     181   BIC:                             1461.\n",
      "Df Model:                           3                                         \n",
      "Covariance Type:            nonrobust                                         \n",
      "==============================================================================\n",
      "                 coef    std err          t      P>|t|      [0.025      0.975]\n",
      "------------------------------------------------------------------------------\n",
      "Intercept    -35.3146      9.048     -3.903      0.000     -53.168     -17.461\n",
      "rate           1.3491      0.107     12.625      0.000       1.138       1.560\n",
      "revenue        0.0270      0.011      2.382      0.018       0.005       0.049\n",
      "duration       0.0005      0.064      0.008      0.994      -0.126       0.127\n",
      "==============================================================================\n",
      "Omnibus:                        1.116   Durbin-Watson:                   1.909\n",
      "Prob(Omnibus):                  0.572   Jarque-Bera (JB):                1.067\n",
      "Skew:                           0.011   Prob(JB):                        0.587\n",
      "Kurtosis:                       2.629   Cond. No.                     1.63e+03\n",
      "==============================================================================\n",
      "\n",
      "Warnings:\n",
      "[1] Standard Errors assume that the covariance matrix of the errors is correctly specified.\n",
      "[2] The condition number is large, 1.63e+03. This might indicate that there are\n",
      "strong multicollinearity or other numerical problems.\n"
     ]
    },
    {
     "data": {
      "image/png": "[encoded data removed]",
      "text/plain": [
       "<matplotlib.figure.Figure at 0x26f42b51668>"
      ]
     },
     "metadata": {},
     "output_type": "display_data"
    }
   ],
   "source": [
    "# Analyze the correlation of different attribute in the scope of all comedy movies\n",
    "Comedy_data = IMDB_dataset[IMDB_dataset[\"genre\"].str.contains('Comedy')]\n",
    "fd = pd.plotting.scatter_matrix(Comedy_data[['revenue', 'rate', 'meta', 'duration']])\n",
    "\n",
    "outcome, predictors = patsy.dmatrices('meta ~ rate + revenue + duration', Comedy_data)\n",
    "mod_all = sm.OLS(outcome, predictors)\n",
    "res_all = mod_all.fit()\n",
    "print(res_all.summary())"
   ]
  },
  {
   "cell_type": "markdown",
   "metadata": {},
   "source": [
    "### Comedy Movies\n",
    "\n",
    "Similarly, public and meta scores are strongly correlated. However, unlike the action and advanture movies above, the duration is not correlated with the meta scores"
   ]
  },
  {
   "cell_type": "code",
   "execution_count": 137,
   "metadata": {
    "collapsed": false
   },
   "outputs": [
    {
     "name": "stdout",
     "output_type": "stream",
     "text": [
      "                            OLS Regression Results                            \n",
      "==============================================================================\n",
      "Dep. Variable:                   meta   R-squared:                       0.326\n",
      "Model:                            OLS   Adj. R-squared:                  0.319\n",
      "Method:                 Least Squares   F-statistic:                     49.30\n",
      "Date:                Thu, 22 Mar 2018   Prob (F-statistic):           5.07e-26\n",
      "Time:                        19:13:12   Log-Likelihood:                -1239.5\n",
      "No. Observations:                 310   AIC:                             2487.\n",
      "Df Residuals:                     306   BIC:                             2502.\n",
      "Df Model:                           3                                         \n",
      "Covariance Type:            nonrobust                                         \n",
      "==============================================================================\n",
      "                 coef    std err          t      P>|t|      [0.025      0.975]\n",
      "------------------------------------------------------------------------------\n",
      "Intercept    -12.9583      7.179     -1.805      0.072     -27.085       1.168\n",
      "rate           1.1037      0.097     11.400      0.000       0.913       1.294\n",
      "revenue        0.0186      0.011      1.678      0.094      -0.003       0.040\n",
      "duration      -0.0152      0.044     -0.346      0.729      -0.101       0.071\n",
      "==============================================================================\n",
      "Omnibus:                        0.545   Durbin-Watson:                   2.131\n",
      "Prob(Omnibus):                  0.762   Jarque-Bera (JB):                0.368\n",
      "Skew:                          -0.071   Prob(JB):                        0.832\n",
      "Kurtosis:                       3.092   Cond. No.                     1.48e+03\n",
      "==============================================================================\n",
      "\n",
      "Warnings:\n",
      "[1] Standard Errors assume that the covariance matrix of the errors is correctly specified.\n",
      "[2] The condition number is large, 1.48e+03. This might indicate that there are\n",
      "strong multicollinearity or other numerical problems.\n"
     ]
    },
    {
     "data": {
      "image/png": "[encoded data removed]",
      "text/plain": [
       "<matplotlib.figure.Figure at 0x26f412a43c8>"
      ]
     },
     "metadata": {},
     "output_type": "display_data"
    }
   ],
   "source": [
    "# Analyze the correlation of different attribute in the scope of all drama movies\n",
    "Drama_data = IMDB_dataset[IMDB_dataset[\"genre\"].str.contains('Drama')]\n",
    "fd = pd.plotting.scatter_matrix(Drama_data[['revenue', 'rate', 'meta', 'duration']])\n",
    "\n",
    "outcome, predictors = patsy.dmatrices('meta ~ rate + revenue + duration', Drama_data)\n",
    "mod_all = sm.OLS(outcome, predictors)\n",
    "res_all = mod_all.fit()\n",
    "print(res_all.summary())"
   ]
  },
  {
   "cell_type": "markdown",
   "metadata": {},
   "source": [
    "### Drama Movies\n",
    "\n",
    "It confirms the trend that all genres, meta and public scores are suprisingly high correlated."
   ]
  },
  {
   "cell_type": "code",
   "execution_count": 138,
   "metadata": {
    "collapsed": false
   },
   "outputs": [
    {
     "name": "stdout",
     "output_type": "stream",
     "text": [
      "                            OLS Regression Results                            \n",
      "==============================================================================\n",
      "Dep. Variable:                   meta   R-squared:                       0.465\n",
      "Model:                            OLS   Adj. R-squared:                  0.462\n",
      "Method:                 Least Squares   F-statistic:                     184.1\n",
      "Date:                Thu, 22 Mar 2018   Prob (F-statistic):           6.23e-86\n",
      "Time:                        19:13:13   Log-Likelihood:                -2509.1\n",
      "No. Observations:                 640   AIC:                             5026.\n",
      "Df Residuals:                     636   BIC:                             5044.\n",
      "Df Model:                           3                                         \n",
      "Covariance Type:            nonrobust                                         \n",
      "==============================================================================\n",
      "                 coef    std err          t      P>|t|      [0.025      0.975]\n",
      "------------------------------------------------------------------------------\n",
      "Intercept    -28.0176      4.310     -6.500      0.000     -36.482     -19.553\n",
      "rate           1.3116      0.060     21.810      0.000       1.193       1.430\n",
      "revenue        0.0058      0.005      1.221      0.222      -0.004       0.015\n",
      "duration      -0.0250      0.029     -0.866      0.387      -0.082       0.032\n",
      "==============================================================================\n",
      "Omnibus:                        6.228   Durbin-Watson:                   2.091\n",
      "Prob(Omnibus):                  0.044   Jarque-Bera (JB):                6.850\n",
      "Skew:                           0.153   Prob(JB):                       0.0325\n",
      "Kurtosis:                       3.403   Cond. No.                     1.61e+03\n",
      "==============================================================================\n",
      "\n",
      "Warnings:\n",
      "[1] Standard Errors assume that the covariance matrix of the errors is correctly specified.\n",
      "[2] The condition number is large, 1.61e+03. This might indicate that there are\n",
      "strong multicollinearity or other numerical problems.\n"
     ]
    }
   ],
   "source": [
    "outcome_1, predictors_1 = patsy.dmatrices('meta ~ rate + revenue + duration', IMDB_dataset)\n",
    "mod_all = sm.OLS(outcome_1, predictors_1)\n",
    "res_all = mod_all.fit()\n",
    "print(res_all.summary())"
   ]
  },
  {
   "cell_type": "code",
   "execution_count": 139,
   "metadata": {
    "collapsed": false
   },
   "outputs": [
    {
     "name": "stdout",
     "output_type": "stream",
     "text": [
      "                            OLS Regression Results                            \n",
      "==============================================================================\n",
      "Dep. Variable:                   meta   R-squared:                       0.354\n",
      "Model:                            OLS   Adj. R-squared:                  0.342\n",
      "Method:                 Least Squares   F-statistic:                     29.22\n",
      "Date:                Thu, 22 Mar 2018   Prob (F-statistic):           4.05e-15\n",
      "Time:                        19:13:13   Log-Likelihood:                -607.42\n",
      "No. Observations:                 164   AIC:                             1223.\n",
      "Df Residuals:                     160   BIC:                             1235.\n",
      "Df Model:                           3                                         \n",
      "Covariance Type:            nonrobust                                         \n",
      "==============================================================================\n",
      "                 coef    std err          t      P>|t|      [0.025      0.975]\n",
      "------------------------------------------------------------------------------\n",
      "Intercept      4.4366     10.990      0.404      0.687     -17.268      26.141\n",
      "rate           1.1717      0.137      8.532      0.000       0.900       1.443\n",
      "revenue       -0.0175      0.007     -2.676      0.008      -0.030      -0.005\n",
      "duration      -0.1289      0.037     -3.453      0.001      -0.203      -0.055\n",
      "==============================================================================\n",
      "Omnibus:                        1.200   Durbin-Watson:                   2.014\n",
      "Prob(Omnibus):                  0.549   Jarque-Bera (JB):                1.219\n",
      "Skew:                           0.202   Prob(JB):                        0.544\n",
      "Kurtosis:                       2.878   Cond. No.                     3.11e+03\n",
      "==============================================================================\n",
      "\n",
      "Warnings:\n",
      "[1] Standard Errors assume that the covariance matrix of the errors is correctly specified.\n",
      "[2] The condition number is large, 3.11e+03. This might indicate that there are\n",
      "strong multicollinearity or other numerical problems.\n"
     ]
    }
   ],
   "source": [
    "outcome_2, predictors_2 = patsy.dmatrices('meta ~ rate + revenue + duration', Oscar_nominated)\n",
    "mod_nominated = sm.OLS(outcome_2, predictors_2)\n",
    "res_nominated = mod_nominated.fit()\n",
    "print(res_nominated.summary())"
   ]
  },
  {
   "cell_type": "code",
   "execution_count": 140,
   "metadata": {
    "collapsed": false
   },
   "outputs": [
    {
     "name": "stdout",
     "output_type": "stream",
     "text": [
      "                            OLS Regression Results                            \n",
      "==============================================================================\n",
      "Dep. Variable:                   meta   R-squared:                       0.350\n",
      "Model:                            OLS   Adj. R-squared:                  0.346\n",
      "Method:                 Least Squares   F-statistic:                     84.84\n",
      "Date:                Thu, 22 Mar 2018   Prob (F-statistic):           6.42e-44\n",
      "Time:                        19:13:13   Log-Likelihood:                -1857.1\n",
      "No. Observations:                 476   AIC:                             3722.\n",
      "Df Residuals:                     472   BIC:                             3739.\n",
      "Df Model:                           3                                         \n",
      "Covariance Type:            nonrobust                                         \n",
      "==============================================================================\n",
      "                 coef    std err          t      P>|t|      [0.025      0.975]\n",
      "------------------------------------------------------------------------------\n",
      "Intercept    -13.7060      5.278     -2.597      0.010     -24.077      -3.335\n",
      "rate           1.0660      0.071     15.072      0.000       0.927       1.205\n",
      "revenue        0.0109      0.006      1.839      0.066      -0.001       0.023\n",
      "duration      -0.0282      0.037     -0.752      0.452      -0.102       0.045\n",
      "==============================================================================\n",
      "Omnibus:                        7.574   Durbin-Watson:                   2.048\n",
      "Prob(Omnibus):                  0.023   Jarque-Bera (JB):                7.840\n",
      "Skew:                           0.244   Prob(JB):                       0.0198\n",
      "Kurtosis:                       3.396   Cond. No.                     1.58e+03\n",
      "==============================================================================\n",
      "\n",
      "Warnings:\n",
      "[1] Standard Errors assume that the covariance matrix of the errors is correctly specified.\n",
      "[2] The condition number is large, 1.58e+03. This might indicate that there are\n",
      "strong multicollinearity or other numerical problems.\n"
     ]
    }
   ],
   "source": [
    "outcome_2, predictors_2 = patsy.dmatrices('meta ~ rate + revenue + duration', non_nominee)\n",
    "mod_nominated = sm.OLS(outcome_2, predictors_2)\n",
    "res_nominated = mod_nominated.fit()\n",
    "print(res_nominated.summary())\n",
    "#Todo:\n",
    "# non-nominee \n",
    "#  oscar winning corrolations"
   ]
  },
  {
   "cell_type": "code",
   "execution_count": 141,
   "metadata": {
    "collapsed": false
   },
   "outputs": [
    {
     "name": "stdout",
     "output_type": "stream",
     "text": [
      "                            OLS Regression Results                            \n",
      "==============================================================================\n",
      "Dep. Variable:                   meta   R-squared:                       0.367\n",
      "Model:                            OLS   Adj. R-squared:                  0.339\n",
      "Method:                 Least Squares   F-statistic:                     13.13\n",
      "Date:                Thu, 22 Mar 2018   Prob (F-statistic):           7.40e-07\n",
      "Time:                        19:13:13   Log-Likelihood:                -262.89\n",
      "No. Observations:                  72   AIC:                             533.8\n",
      "Df Residuals:                      68   BIC:                             542.9\n",
      "Df Model:                           3                                         \n",
      "Covariance Type:            nonrobust                                         \n",
      "==============================================================================\n",
      "                 coef    std err          t      P>|t|      [0.025      0.975]\n",
      "------------------------------------------------------------------------------\n",
      "Intercept     -2.4314     16.791     -0.145      0.885     -35.937      31.075\n",
      "rate           1.3105      0.219      5.995      0.000       0.874       1.747\n",
      "revenue       -0.0145      0.008     -1.750      0.085      -0.031       0.002\n",
      "duration      -0.1396      0.052     -2.685      0.009      -0.243      -0.036\n",
      "==============================================================================\n",
      "Omnibus:                        0.609   Durbin-Watson:                   2.140\n",
      "Prob(Omnibus):                  0.737   Jarque-Bera (JB):                0.359\n",
      "Skew:                           0.172   Prob(JB):                        0.836\n",
      "Kurtosis:                       3.041   Cond. No.                     3.51e+03\n",
      "==============================================================================\n",
      "\n",
      "Warnings:\n",
      "[1] Standard Errors assume that the covariance matrix of the errors is correctly specified.\n",
      "[2] The condition number is large, 3.51e+03. This might indicate that there are\n",
      "strong multicollinearity or other numerical problems.\n"
     ]
    }
   ],
   "source": [
    "outcome_2, predictors_2 = patsy.dmatrices('meta ~ rate + revenue + duration', Oscar_all_winner)\n",
    "mod_nominated = sm.OLS(outcome_2, predictors_2)\n",
    "res_nominated = mod_nominated.fit()\n",
    "print(res_nominated.summary())"
   ]
  },
  {
   "cell_type": "code",
   "execution_count": 142,
   "metadata": {
    "collapsed": false
   },
   "outputs": [],
   "source": [
    "def nominated(title):\n",
    "    if title in Oscar_nominated['title'].values:\n",
    "        return 1.0\n",
    "    else:\n",
    "        return 0.0"
   ]
  },
  {
   "cell_type": "code",
   "execution_count": 143,
   "metadata": {
    "collapsed": false
   },
   "outputs": [
    {
     "data": {
      "text/plain": [
       "0.0    504\n",
       "1.0    164\n",
       "Name: oscar nominated, dtype: int64"
      ]
     },
     "execution_count": 143,
     "metadata": {},
     "output_type": "execute_result"
    }
   ],
   "source": [
    "IMDB_dataset['oscar nominated'] = IMDB_dataset['title'].apply(nominated)\n",
    "IMDB_dataset['oscar nominated'].value_counts()"
   ]
  },
  {
   "cell_type": "code",
   "execution_count": 144,
   "metadata": {
    "collapsed": true
   },
   "outputs": [],
   "source": [
    "tfidf = TfidfVectorizer(sublinear_tf=True, analyzer='word', max_features=2000, tokenizer=word_tokenize)"
   ]
  },
  {
   "cell_type": "code",
   "execution_count": 145,
   "metadata": {
    "collapsed": false
   },
   "outputs": [
    {
     "ename": "LookupError",
     "evalue": "\n**********************************************************************\n  Resource 'tokenizers/punkt/english.pickle' not found.  Please\n  use the NLTK Downloader to obtain the resource:  >>>\n  nltk.download()\n  Searched in:\n    - 'C:\\\\Users\\\\duiba/nltk_data'\n    - 'C:\\\\nltk_data'\n    - 'D:\\\\nltk_data'\n    - 'E:\\\\nltk_data'\n    - 'C:\\\\Users\\\\duiba\\\\Anaconda3\\\\nltk_data'\n    - 'C:\\\\Users\\\\duiba\\\\Anaconda3\\\\lib\\\\nltk_data'\n    - 'C:\\\\Users\\\\duiba\\\\AppData\\\\Roaming\\\\nltk_data'\n    - ''\n**********************************************************************",
     "output_type": "error",
     "traceback": [
      "\u001b[1;31m---------------------------------------------------------------------------\u001b[0m",
      "\u001b[1;31mLookupError\u001b[0m                               Traceback (most recent call last)",
      "\u001b[1;32m<ipython-input-145-3ee0f7efa5bd>\u001b[0m in \u001b[0;36m<module>\u001b[1;34m()\u001b[0m\n\u001b[1;32m----> 1\u001b[1;33m \u001b[0mMR_tfidf_X\u001b[0m \u001b[1;33m=\u001b[0m \u001b[0mtfidf\u001b[0m\u001b[1;33m.\u001b[0m\u001b[0mfit_transform\u001b[0m\u001b[1;33m(\u001b[0m\u001b[0mIMDB_dataset\u001b[0m\u001b[1;33m[\u001b[0m\u001b[1;34m'actors'\u001b[0m\u001b[1;33m]\u001b[0m\u001b[1;33m)\u001b[0m\u001b[1;33m.\u001b[0m\u001b[0mtoarray\u001b[0m\u001b[1;33m(\u001b[0m\u001b[1;33m)\u001b[0m\u001b[1;33m\u001b[0m\u001b[0m\n\u001b[0m",
      "\u001b[1;32mC:\\Users\\duiba\\Anaconda3\\lib\\site-packages\\sklearn\\feature_extraction\\text.py\u001b[0m in \u001b[0;36mfit_transform\u001b[1;34m(self, raw_documents, y)\u001b[0m\n\u001b[0;32m   1303\u001b[0m             \u001b[0mTf\u001b[0m\u001b[1;33m-\u001b[0m\u001b[0midf\u001b[0m\u001b[1;33m-\u001b[0m\u001b[0mweighted\u001b[0m \u001b[0mdocument\u001b[0m\u001b[1;33m-\u001b[0m\u001b[0mterm\u001b[0m \u001b[0mmatrix\u001b[0m\u001b[1;33m.\u001b[0m\u001b[1;33m\u001b[0m\u001b[0m\n\u001b[0;32m   1304\u001b[0m         \"\"\"\n\u001b[1;32m-> 1305\u001b[1;33m         \u001b[0mX\u001b[0m \u001b[1;33m=\u001b[0m \u001b[0msuper\u001b[0m\u001b[1;33m(\u001b[0m\u001b[0mTfidfVectorizer\u001b[0m\u001b[1;33m,\u001b[0m \u001b[0mself\u001b[0m\u001b[1;33m)\u001b[0m\u001b[1;33m.\u001b[0m\u001b[0mfit_transform\u001b[0m\u001b[1;33m(\u001b[0m\u001b[0mraw_documents\u001b[0m\u001b[1;33m)\u001b[0m\u001b[1;33m\u001b[0m\u001b[0m\n\u001b[0m\u001b[0;32m   1306\u001b[0m         \u001b[0mself\u001b[0m\u001b[1;33m.\u001b[0m\u001b[0m_tfidf\u001b[0m\u001b[1;33m.\u001b[0m\u001b[0mfit\u001b[0m\u001b[1;33m(\u001b[0m\u001b[0mX\u001b[0m\u001b[1;33m)\u001b[0m\u001b[1;33m\u001b[0m\u001b[0m\n\u001b[0;32m   1307\u001b[0m         \u001b[1;31m# X is already a transformed view of raw_documents so\u001b[0m\u001b[1;33m\u001b[0m\u001b[1;33m\u001b[0m\u001b[0m\n",
      "\u001b[1;32mC:\\Users\\duiba\\Anaconda3\\lib\\site-packages\\sklearn\\feature_extraction\\text.py\u001b[0m in \u001b[0;36mfit_transform\u001b[1;34m(self, raw_documents, y)\u001b[0m\n\u001b[0;32m    815\u001b[0m \u001b[1;33m\u001b[0m\u001b[0m\n\u001b[0;32m    816\u001b[0m         vocabulary, X = self._count_vocab(raw_documents,\n\u001b[1;32m--> 817\u001b[1;33m                                           self.fixed_vocabulary_)\n\u001b[0m\u001b[0;32m    818\u001b[0m \u001b[1;33m\u001b[0m\u001b[0m\n\u001b[0;32m    819\u001b[0m         \u001b[1;32mif\u001b[0m \u001b[0mself\u001b[0m\u001b[1;33m.\u001b[0m\u001b[0mbinary\u001b[0m\u001b[1;33m:\u001b[0m\u001b[1;33m\u001b[0m\u001b[0m\n",
      "\u001b[1;32mC:\\Users\\duiba\\Anaconda3\\lib\\site-packages\\sklearn\\feature_extraction\\text.py\u001b[0m in \u001b[0;36m_count_vocab\u001b[1;34m(self, raw_documents, fixed_vocab)\u001b[0m\n\u001b[0;32m    750\u001b[0m         \u001b[0mindptr\u001b[0m\u001b[1;33m.\u001b[0m\u001b[0mappend\u001b[0m\u001b[1;33m(\u001b[0m\u001b[1;36m0\u001b[0m\u001b[1;33m)\u001b[0m\u001b[1;33m\u001b[0m\u001b[0m\n\u001b[0;32m    751\u001b[0m         \u001b[1;32mfor\u001b[0m \u001b[0mdoc\u001b[0m \u001b[1;32min\u001b[0m \u001b[0mraw_documents\u001b[0m\u001b[1;33m:\u001b[0m\u001b[1;33m\u001b[0m\u001b[0m\n\u001b[1;32m--> 752\u001b[1;33m             \u001b[1;32mfor\u001b[0m \u001b[0mfeature\u001b[0m \u001b[1;32min\u001b[0m \u001b[0manalyze\u001b[0m\u001b[1;33m(\u001b[0m\u001b[0mdoc\u001b[0m\u001b[1;33m)\u001b[0m\u001b[1;33m:\u001b[0m\u001b[1;33m\u001b[0m\u001b[0m\n\u001b[0m\u001b[0;32m    753\u001b[0m                 \u001b[1;32mtry\u001b[0m\u001b[1;33m:\u001b[0m\u001b[1;33m\u001b[0m\u001b[0m\n\u001b[0;32m    754\u001b[0m                     \u001b[0mj_indices\u001b[0m\u001b[1;33m.\u001b[0m\u001b[0mappend\u001b[0m\u001b[1;33m(\u001b[0m\u001b[0mvocabulary\u001b[0m\u001b[1;33m[\u001b[0m\u001b[0mfeature\u001b[0m\u001b[1;33m]\u001b[0m\u001b[1;33m)\u001b[0m\u001b[1;33m\u001b[0m\u001b[0m\n",
      "\u001b[1;32mC:\\Users\\duiba\\Anaconda3\\lib\\site-packages\\sklearn\\feature_extraction\\text.py\u001b[0m in \u001b[0;36m<lambda>\u001b[1;34m(doc)\u001b[0m\n\u001b[0;32m    236\u001b[0m \u001b[1;33m\u001b[0m\u001b[0m\n\u001b[0;32m    237\u001b[0m             return lambda doc: self._word_ngrams(\n\u001b[1;32m--> 238\u001b[1;33m                 tokenize(preprocess(self.decode(doc))), stop_words)\n\u001b[0m\u001b[0;32m    239\u001b[0m \u001b[1;33m\u001b[0m\u001b[0m\n\u001b[0;32m    240\u001b[0m         \u001b[1;32melse\u001b[0m\u001b[1;33m:\u001b[0m\u001b[1;33m\u001b[0m\u001b[0m\n",
      "\u001b[1;32mC:\\Users\\duiba\\Anaconda3\\lib\\site-packages\\nltk\\tokenize\\__init__.py\u001b[0m in \u001b[0;36mword_tokenize\u001b[1;34m(text, language)\u001b[0m\n\u001b[0;32m    104\u001b[0m     \u001b[1;33m:\u001b[0m\u001b[0mparam\u001b[0m \u001b[0mlanguage\u001b[0m\u001b[1;33m:\u001b[0m \u001b[0mthe\u001b[0m \u001b[0mmodel\u001b[0m \u001b[0mname\u001b[0m \u001b[1;32min\u001b[0m \u001b[0mthe\u001b[0m \u001b[0mPunkt\u001b[0m \u001b[0mcorpus\u001b[0m\u001b[1;33m\u001b[0m\u001b[0m\n\u001b[0;32m    105\u001b[0m     \"\"\"\n\u001b[1;32m--> 106\u001b[1;33m     return [token for sent in sent_tokenize(text, language)\n\u001b[0m\u001b[0;32m    107\u001b[0m             for token in _treebank_word_tokenize(sent)]\n\u001b[0;32m    108\u001b[0m \u001b[1;33m\u001b[0m\u001b[0m\n",
      "\u001b[1;32mC:\\Users\\duiba\\Anaconda3\\lib\\site-packages\\nltk\\tokenize\\__init__.py\u001b[0m in \u001b[0;36msent_tokenize\u001b[1;34m(text, language)\u001b[0m\n\u001b[0;32m     88\u001b[0m     \u001b[1;33m:\u001b[0m\u001b[0mparam\u001b[0m \u001b[0mlanguage\u001b[0m\u001b[1;33m:\u001b[0m \u001b[0mthe\u001b[0m \u001b[0mmodel\u001b[0m \u001b[0mname\u001b[0m \u001b[1;32min\u001b[0m \u001b[0mthe\u001b[0m \u001b[0mPunkt\u001b[0m \u001b[0mcorpus\u001b[0m\u001b[1;33m\u001b[0m\u001b[0m\n\u001b[0;32m     89\u001b[0m     \"\"\"\n\u001b[1;32m---> 90\u001b[1;33m     \u001b[0mtokenizer\u001b[0m \u001b[1;33m=\u001b[0m \u001b[0mload\u001b[0m\u001b[1;33m(\u001b[0m\u001b[1;34m'tokenizers/punkt/{0}.pickle'\u001b[0m\u001b[1;33m.\u001b[0m\u001b[0mformat\u001b[0m\u001b[1;33m(\u001b[0m\u001b[0mlanguage\u001b[0m\u001b[1;33m)\u001b[0m\u001b[1;33m)\u001b[0m\u001b[1;33m\u001b[0m\u001b[0m\n\u001b[0m\u001b[0;32m     91\u001b[0m     \u001b[1;32mreturn\u001b[0m \u001b[0mtokenizer\u001b[0m\u001b[1;33m.\u001b[0m\u001b[0mtokenize\u001b[0m\u001b[1;33m(\u001b[0m\u001b[0mtext\u001b[0m\u001b[1;33m)\u001b[0m\u001b[1;33m\u001b[0m\u001b[0m\n\u001b[0;32m     92\u001b[0m \u001b[1;33m\u001b[0m\u001b[0m\n",
      "\u001b[1;32mC:\\Users\\duiba\\Anaconda3\\lib\\site-packages\\nltk\\data.py\u001b[0m in \u001b[0;36mload\u001b[1;34m(resource_url, format, cache, verbose, logic_parser, fstruct_reader, encoding)\u001b[0m\n\u001b[0;32m    799\u001b[0m \u001b[1;33m\u001b[0m\u001b[0m\n\u001b[0;32m    800\u001b[0m     \u001b[1;31m# Load the resource.\u001b[0m\u001b[1;33m\u001b[0m\u001b[1;33m\u001b[0m\u001b[0m\n\u001b[1;32m--> 801\u001b[1;33m     \u001b[0mopened_resource\u001b[0m \u001b[1;33m=\u001b[0m \u001b[0m_open\u001b[0m\u001b[1;33m(\u001b[0m\u001b[0mresource_url\u001b[0m\u001b[1;33m)\u001b[0m\u001b[1;33m\u001b[0m\u001b[0m\n\u001b[0m\u001b[0;32m    802\u001b[0m \u001b[1;33m\u001b[0m\u001b[0m\n\u001b[0;32m    803\u001b[0m     \u001b[1;32mif\u001b[0m \u001b[0mformat\u001b[0m \u001b[1;33m==\u001b[0m \u001b[1;34m'raw'\u001b[0m\u001b[1;33m:\u001b[0m\u001b[1;33m\u001b[0m\u001b[0m\n",
      "\u001b[1;32mC:\\Users\\duiba\\Anaconda3\\lib\\site-packages\\nltk\\data.py\u001b[0m in \u001b[0;36m_open\u001b[1;34m(resource_url)\u001b[0m\n\u001b[0;32m    917\u001b[0m \u001b[1;33m\u001b[0m\u001b[0m\n\u001b[0;32m    918\u001b[0m     \u001b[1;32mif\u001b[0m \u001b[0mprotocol\u001b[0m \u001b[1;32mis\u001b[0m \u001b[1;32mNone\u001b[0m \u001b[1;32mor\u001b[0m \u001b[0mprotocol\u001b[0m\u001b[1;33m.\u001b[0m\u001b[0mlower\u001b[0m\u001b[1;33m(\u001b[0m\u001b[1;33m)\u001b[0m \u001b[1;33m==\u001b[0m \u001b[1;34m'nltk'\u001b[0m\u001b[1;33m:\u001b[0m\u001b[1;33m\u001b[0m\u001b[0m\n\u001b[1;32m--> 919\u001b[1;33m         \u001b[1;32mreturn\u001b[0m \u001b[0mfind\u001b[0m\u001b[1;33m(\u001b[0m\u001b[0mpath_\u001b[0m\u001b[1;33m,\u001b[0m \u001b[0mpath\u001b[0m \u001b[1;33m+\u001b[0m \u001b[1;33m[\u001b[0m\u001b[1;34m''\u001b[0m\u001b[1;33m]\u001b[0m\u001b[1;33m)\u001b[0m\u001b[1;33m.\u001b[0m\u001b[0mopen\u001b[0m\u001b[1;33m(\u001b[0m\u001b[1;33m)\u001b[0m\u001b[1;33m\u001b[0m\u001b[0m\n\u001b[0m\u001b[0;32m    920\u001b[0m     \u001b[1;32melif\u001b[0m \u001b[0mprotocol\u001b[0m\u001b[1;33m.\u001b[0m\u001b[0mlower\u001b[0m\u001b[1;33m(\u001b[0m\u001b[1;33m)\u001b[0m \u001b[1;33m==\u001b[0m \u001b[1;34m'file'\u001b[0m\u001b[1;33m:\u001b[0m\u001b[1;33m\u001b[0m\u001b[0m\n\u001b[0;32m    921\u001b[0m         \u001b[1;31m# urllib might not use mode='rb', so handle this one ourselves:\u001b[0m\u001b[1;33m\u001b[0m\u001b[1;33m\u001b[0m\u001b[0m\n",
      "\u001b[1;32mC:\\Users\\duiba\\Anaconda3\\lib\\site-packages\\nltk\\data.py\u001b[0m in \u001b[0;36mfind\u001b[1;34m(resource_name, paths)\u001b[0m\n\u001b[0;32m    639\u001b[0m     \u001b[0msep\u001b[0m \u001b[1;33m=\u001b[0m \u001b[1;34m'*'\u001b[0m \u001b[1;33m*\u001b[0m \u001b[1;36m70\u001b[0m\u001b[1;33m\u001b[0m\u001b[0m\n\u001b[0;32m    640\u001b[0m     \u001b[0mresource_not_found\u001b[0m \u001b[1;33m=\u001b[0m \u001b[1;34m'\\n%s\\n%s\\n%s'\u001b[0m \u001b[1;33m%\u001b[0m \u001b[1;33m(\u001b[0m\u001b[0msep\u001b[0m\u001b[1;33m,\u001b[0m \u001b[0mmsg\u001b[0m\u001b[1;33m,\u001b[0m \u001b[0msep\u001b[0m\u001b[1;33m)\u001b[0m\u001b[1;33m\u001b[0m\u001b[0m\n\u001b[1;32m--> 641\u001b[1;33m     \u001b[1;32mraise\u001b[0m \u001b[0mLookupError\u001b[0m\u001b[1;33m(\u001b[0m\u001b[0mresource_not_found\u001b[0m\u001b[1;33m)\u001b[0m\u001b[1;33m\u001b[0m\u001b[0m\n\u001b[0m\u001b[0;32m    642\u001b[0m \u001b[1;33m\u001b[0m\u001b[0m\n\u001b[0;32m    643\u001b[0m \u001b[1;33m\u001b[0m\u001b[0m\n",
      "\u001b[1;31mLookupError\u001b[0m: \n**********************************************************************\n  Resource 'tokenizers/punkt/english.pickle' not found.  Please\n  use the NLTK Downloader to obtain the resource:  >>>\n  nltk.download()\n  Searched in:\n    - 'C:\\\\Users\\\\duiba/nltk_data'\n    - 'C:\\\\nltk_data'\n    - 'D:\\\\nltk_data'\n    - 'E:\\\\nltk_data'\n    - 'C:\\\\Users\\\\duiba\\\\Anaconda3\\\\nltk_data'\n    - 'C:\\\\Users\\\\duiba\\\\Anaconda3\\\\lib\\\\nltk_data'\n    - 'C:\\\\Users\\\\duiba\\\\AppData\\\\Roaming\\\\nltk_data'\n    - ''\n**********************************************************************"
     ]
    }
   ],
   "source": [
    "MR_tfidf_X = tfidf.fit_transform(IMDB_dataset['actors']).toarray()"
   ]
  },
  {
   "cell_type": "code",
   "execution_count": null,
   "metadata": {
    "collapsed": false
   },
   "outputs": [],
   "source": [
    "MR_y = IMDB_dataset['oscar nominated'].as_matrix().reshape(668,)\n",
    "num_training = int(len(IMDB_dataset.index)*0.5)\n",
    "num_testing = int(len(IMDB_dataset.index)*0.5)\n",
    "MR_train_tfidf_X = MR_tfidf_X[0:num_training]\n",
    "MR_train_tfidf_y = MR_y[0:num_training]\n",
    "MR_test_tfidf_X = MR_tfidf_X[num_training:]\n",
    "MR_test_tfidf_y = MR_y[num_training:]"
   ]
  },
  {
   "cell_type": "code",
   "execution_count": null,
   "metadata": {
    "collapsed": false
   },
   "outputs": [],
   "source": [
    "MR_tfidf_clf = train_SVM(MR_train_tfidf_X, MR_train_tfidf_y)"
   ]
  },
  {
   "cell_type": "code",
   "execution_count": null,
   "metadata": {
    "collapsed": false
   },
   "outputs": [],
   "source": [
    "MR_pred_train_tfidf_y = MR_tfidf_clf.predict(MR_train_tfidf_X)\n",
    "MR_pred_test_tfidf_y = MR_tfidf_clf.predict(MR_test_tfidf_X)"
   ]
  },
  {
   "cell_type": "code",
   "execution_count": null,
   "metadata": {
    "collapsed": false
   },
   "outputs": [],
   "source": [
    "print(classification_report(MR_train_tfidf_y, MR_pred_train_tfidf_y))"
   ]
  },
  {
   "cell_type": "code",
   "execution_count": null,
   "metadata": {
    "collapsed": false
   },
   "outputs": [],
   "source": [
    "print(classification_report(MR_test_tfidf_y, MR_pred_test_tfidf_y))"
   ]
  },
  {
   "cell_type": "markdown",
   "metadata": {},
   "source": [
    "### Above: IMDB\n",
    "### Below: Oscar"
   ]
  },
  {
   "cell_type": "code",
   "execution_count": null,
   "metadata": {
    "collapsed": true
   },
   "outputs": [],
   "source": [
    "# predict oscar winner from actor names\n",
    "tfidf = TfidfVectorizer(sublinear_tf=True, analyzer='word', max_features=2000, tokenizer=word_tokenize)"
   ]
  },
  {
   "cell_type": "code",
   "execution_count": null,
   "metadata": {
    "collapsed": false
   },
   "outputs": [],
   "source": [
    "MR_tfidf_X = tfidf.fit_transform(Oscars_dataset['film']).toarray()"
   ]
  },
  {
   "cell_type": "code",
   "execution_count": null,
   "metadata": {
    "collapsed": false
   },
   "outputs": [],
   "source": [
    "MR_y = Oscars_dataset['winner'].as_matrix().reshape(1229,)\n",
    "num_training = int(len(Oscars_dataset.index)*0.8)\n",
    "num_testing = int(len(Oscars_dataset.index)*0.2)\n",
    "MR_train_tfidf_X = MR_tfidf_X[0:num_training]\n",
    "MR_train_tfidf_y = MR_y[0:num_training]\n",
    "MR_test_tfidf_X = MR_tfidf_X[num_training:]\n",
    "MR_test_tfidf_y = MR_y[num_training:]"
   ]
  },
  {
   "cell_type": "code",
   "execution_count": null,
   "metadata": {
    "collapsed": false
   },
   "outputs": [],
   "source": [
    "MR_tfidf_clf = train_SVM(MR_train_tfidf_X, MR_train_tfidf_y)"
   ]
  },
  {
   "cell_type": "code",
   "execution_count": null,
   "metadata": {
    "collapsed": false
   },
   "outputs": [],
   "source": [
    "MR_pred_train_tfidf_y = MR_tfidf_clf.predict(MR_train_tfidf_X)\n",
    "MR_pred_test_tfidf_y = MR_tfidf_clf.predict(MR_test_tfidf_X)"
   ]
  },
  {
   "cell_type": "code",
   "execution_count": null,
   "metadata": {
    "collapsed": false
   },
   "outputs": [],
   "source": [
    "print(classification_report(MR_train_tfidf_y, MR_pred_train_tfidf_y))"
   ]
  },
  {
   "cell_type": "code",
   "execution_count": null,
   "metadata": {
    "collapsed": false
   },
   "outputs": [],
   "source": [
    "print(classification_report(MR_test_tfidf_y, MR_pred_test_tfidf_y))"
   ]
  },
  {
   "cell_type": "code",
   "execution_count": null,
   "metadata": {
    "collapsed": true
   },
   "outputs": [],
   "source": [
    "# predict oscar winner from film names\n",
    "tfidf = TfidfVectorizer(sublinear_tf=True, analyzer='word', max_features=2000, tokenizer=word_tokenize)"
   ]
  },
  {
   "cell_type": "code",
   "execution_count": null,
   "metadata": {
    "collapsed": false
   },
   "outputs": [],
   "source": [
    "MR_tfidf_X = tfidf.fit_transform(Oscars_dataset['name']).toarray()"
   ]
  },
  {
   "cell_type": "code",
   "execution_count": null,
   "metadata": {
    "collapsed": false
   },
   "outputs": [],
   "source": [
    "MR_y = Oscars_dataset['winner'].as_matrix().reshape(1229,)\n",
    "num_training = int(len(Oscars_dataset.index)*0.8)\n",
    "num_testing = int(len(Oscars_dataset.index)*0.2)\n",
    "MR_train_tfidf_X = MR_tfidf_X[0:num_training]\n",
    "MR_train_tfidf_y = MR_y[0:num_training]\n",
    "MR_test_tfidf_X = MR_tfidf_X[num_training:]\n",
    "MR_test_tfidf_y = MR_y[num_training:]"
   ]
  },
  {
   "cell_type": "code",
   "execution_count": null,
   "metadata": {
    "collapsed": false
   },
   "outputs": [],
   "source": [
    "MR_tfidf_clf = train_SVM(MR_train_tfidf_X, MR_train_tfidf_y)"
   ]
  },
  {
   "cell_type": "code",
   "execution_count": null,
   "metadata": {
    "collapsed": false
   },
   "outputs": [],
   "source": [
    "MR_pred_train_tfidf_y = MR_tfidf_clf.predict(MR_train_tfidf_X)\n",
    "MR_pred_test_tfidf_y = MR_tfidf_clf.predict(MR_test_tfidf_X)"
   ]
  },
  {
   "cell_type": "code",
   "execution_count": null,
   "metadata": {
    "collapsed": false
   },
   "outputs": [],
   "source": [
    "print(classification_report(MR_train_tfidf_y, MR_pred_train_tfidf_y))"
   ]
  },
  {
   "cell_type": "code",
   "execution_count": null,
   "metadata": {
    "collapsed": false
   },
   "outputs": [],
   "source": [
    "print(classification_report(MR_test_tfidf_y, MR_pred_test_tfidf_y))"
   ]
  },
  {
   "cell_type": "code",
   "execution_count": null,
   "metadata": {
    "collapsed": true
   },
   "outputs": [],
   "source": [
    "# predict meta score from vote\n",
    "a1, a2, a3, a4, b = np.polyfit(IMDB_dataset['votes'], IMDB_dataset['meta'], 4)\n",
    "def predict_meta_from_vote(r):\n",
    "    return r*r*r*r*a1+r*r*r*a2+r*r*a3+r*a4+b"
   ]
  },
  {
   "cell_type": "code",
   "execution_count": null,
   "metadata": {
    "collapsed": false
   },
   "outputs": [],
   "source": [
    "print(predict_meta_from_vote(1000000))"
   ]
  },
  {
   "cell_type": "markdown",
   "metadata": {},
   "source": [
    "# Privacy/Ethics Considerations\n",
    "The dataset is provided publicly on the website of kaggle, so we assume that we have the permission of using it. We do not find any privacy concerns about these datasets according to the Safe Harbour rules. The information of the movies are public, so there is no concern about privacy. The personal information, such as names, emails of the raters are not provided by these datasets.\n",
    "\n",
    "We think there are 3 main bias from exploring the preview of this dataset: \n",
    "The limitation of language, time period and the ratings themselves. \n",
    "Firstly, more than 70% of the movies are English speaking movies, which exclude parts of movies in other language. The similar problem also exists in the rater side. As an English-based website, IMDb fails to include the opinion of peoples from non-English speaking countries. \n",
    "\n",
    "Secondly, almost all selected movies are produced between 2006 and 2016, which exclude movies produced in 20 century. However, these movies consist a considerable large portion of the top 50 rated movie list on IMDB website. \n",
    "\n",
    "Thirdly, since IMDb is a public site that everyone can edit and comment, it is possible that some high-rating movies are rated by a group of fans and they might sabotage the accuracy of the rating. "
   ]
  },
  {
   "cell_type": "markdown",
   "metadata": {},
   "source": [
    "# Conclusions and Discussion\n",
    "\n",
    "\n",
    "It turns out that our hypotheses are actually wrong, Oscars awards are matching up with the public reviews in IMDb quite well. More specifically, the normal people tends to give a relatively higher rate overall, while the critics give relatively lower rates overall. It is a good sign that Academy is in touch with the public. Thus, Oscars are indeed an important indication of movies merit. After we extract all movies of the same genre and high revenue, we do not see a large difference in the correlation between Oscar winning and rating, which lead to our conclusion that genre and revenue are not strong indicators in winning Oscar. \n",
    "\n",
    "In addition, we built a predictor, predicting if a movie can win Oscar given the actors name in that movie. As a fun fact, the accuracy of the predictor is not very good and we can somehow see that having certain actors in the cast list does not necessarily give a movie higher possibility in winning Oscar. \n",
    "\n",
    "Some of the drawbacks of our analysis are that IMDb is only one of the rating platforms, it is almost impossible to represent the whole group of movie viewers, as people of different tastes might be inclined to different rating platforms, like rotten tomatoes and etc. Hence, we expect our data to be biased.\n",
    "We also need to take into account the number of people that are rating a particular movie. If, say, a movie only received roughly 20 reviews or ratings,  it is very likely that this rating is inaccurate and we may want to drop this ratings to ensure our accuracy. \n"
   ]
  },
  {
   "cell_type": "code",
   "execution_count": null,
   "metadata": {
    "collapsed": true
   },
   "outputs": [],
   "source": []
  },
  {
   "cell_type": "code",
   "execution_count": null,
   "metadata": {
    "collapsed": true
   },
   "outputs": [],
   "source": []
  },
  {
   "cell_type": "code",
   "execution_count": null,
   "metadata": {
    "collapsed": true
   },
   "outputs": [],
   "source": []
  },
  {
   "cell_type": "code",
   "execution_count": null,
   "metadata": {
    "collapsed": true
   },
   "outputs": [],
   "source": []
  },
  {
   "cell_type": "code",
   "execution_count": null,
   "metadata": {
    "collapsed": true
   },
   "outputs": [],
   "source": []
  },
  {
   "cell_type": "code",
   "execution_count": null,
   "metadata": {
    "collapsed": true
   },
   "outputs": [],
   "source": []
  },
  {
   "cell_type": "code",
   "execution_count": null,
   "metadata": {
    "collapsed": true
   },
   "outputs": [],
   "source": []
  },
  {
   "cell_type": "code",
   "execution_count": null,
   "metadata": {
    "collapsed": true
   },
   "outputs": [],
   "source": []
  },
  {
   "cell_type": "code",
   "execution_count": null,
   "metadata": {
    "collapsed": true
   },
   "outputs": [],
   "source": []
  },
  {
   "cell_type": "code",
   "execution_count": null,
   "metadata": {
    "collapsed": true
   },
   "outputs": [],
   "source": []
  },
  {
   "cell_type": "code",
   "execution_count": null,
   "metadata": {
    "collapsed": true
   },
   "outputs": [],
   "source": []
  },
  {
   "cell_type": "code",
   "execution_count": null,
   "metadata": {
    "collapsed": true
   },
   "outputs": [],
   "source": []
  },
  {
   "cell_type": "code",
   "execution_count": null,
   "metadata": {
    "collapsed": true
   },
   "outputs": [],
   "source": []
  },
  {
   "cell_type": "code",
   "execution_count": null,
   "metadata": {
    "collapsed": true
   },
   "outputs": [],
   "source": []
  },
  {
   "cell_type": "code",
   "execution_count": null,
   "metadata": {
    "collapsed": true
   },
   "outputs": [],
   "source": []
  },
  {
   "cell_type": "code",
   "execution_count": null,
   "metadata": {
    "collapsed": true
   },
   "outputs": [],
   "source": []
  },
  {
   "cell_type": "code",
   "execution_count": null,
   "metadata": {
    "collapsed": true
   },
   "outputs": [],
   "source": []
  },
  {
   "cell_type": "code",
   "execution_count": null,
   "metadata": {
    "collapsed": true
   },
   "outputs": [],
   "source": []
  },
  {
   "cell_type": "code",
   "execution_count": null,
   "metadata": {
    "collapsed": true
   },
   "outputs": [],
   "source": []
  },
  {
   "cell_type": "code",
   "execution_count": null,
   "metadata": {
    "collapsed": true
   },
   "outputs": [],
   "source": []
  },
  {
   "cell_type": "code",
   "execution_count": null,
   "metadata": {
    "collapsed": true
   },
   "outputs": [],
   "source": []
  },
  {
   "cell_type": "code",
   "execution_count": null,
   "metadata": {
    "collapsed": true
   },
   "outputs": [],
   "source": []
  },
  {
   "cell_type": "code",
   "execution_count": null,
   "metadata": {
    "collapsed": true
   },
   "outputs": [],
   "source": []
  },
  {
   "cell_type": "code",
   "execution_count": null,
   "metadata": {
    "collapsed": true
   },
   "outputs": [],
   "source": []
  },
  {
   "cell_type": "code",
   "execution_count": null,
   "metadata": {
    "collapsed": true
   },
   "outputs": [],
   "source": []
  },
  {
   "cell_type": "code",
   "execution_count": null,
   "metadata": {
    "collapsed": true
   },
   "outputs": [],
   "source": []
  },
  {
   "cell_type": "code",
   "execution_count": null,
   "metadata": {
    "collapsed": true
   },
   "outputs": [],
   "source": []
  },
  {
   "cell_type": "code",
   "execution_count": null,
   "metadata": {
    "collapsed": true
   },
   "outputs": [],
   "source": []
  },
  {
   "cell_type": "code",
   "execution_count": null,
   "metadata": {
    "collapsed": true
   },
   "outputs": [],
   "source": []
  },
  {
   "cell_type": "code",
   "execution_count": null,
   "metadata": {
    "collapsed": true
   },
   "outputs": [],
   "source": []
  },
  {
   "cell_type": "code",
   "execution_count": null,
   "metadata": {
    "collapsed": true
   },
   "outputs": [],
   "source": []
  },
  {
   "cell_type": "code",
   "execution_count": null,
   "metadata": {
    "collapsed": true
   },
   "outputs": [],
   "source": []
  },
  {
   "cell_type": "code",
   "execution_count": null,
   "metadata": {
    "collapsed": true
   },
   "outputs": [],
   "source": []
  },
  {
   "cell_type": "code",
   "execution_count": null,
   "metadata": {
    "collapsed": true
   },
   "outputs": [],
   "source": []
  },
  {
   "cell_type": "code",
   "execution_count": null,
   "metadata": {
    "collapsed": true
   },
   "outputs": [],
   "source": []
  },
  {
   "cell_type": "code",
   "execution_count": null,
   "metadata": {
    "collapsed": true
   },
   "outputs": [],
   "source": []
  },
  {
   "cell_type": "code",
   "execution_count": null,
   "metadata": {
    "collapsed": true
   },
   "outputs": [],
   "source": []
  },
  {
   "cell_type": "code",
   "execution_count": null,
   "metadata": {
    "collapsed": true
   },
   "outputs": [],
   "source": []
  },
  {
   "cell_type": "code",
   "execution_count": null,
   "metadata": {
    "collapsed": true
   },
   "outputs": [],
   "source": []
  },
  {
   "cell_type": "code",
   "execution_count": null,
   "metadata": {
    "collapsed": true
   },
   "outputs": [],
   "source": []
  },
  {
   "cell_type": "code",
   "execution_count": null,
   "metadata": {
    "collapsed": true
   },
   "outputs": [],
   "source": []
  },
  {
   "cell_type": "code",
   "execution_count": null,
   "metadata": {
    "collapsed": true
   },
   "outputs": [],
   "source": []
  },
  {
   "cell_type": "code",
   "execution_count": null,
   "metadata": {
    "collapsed": true
   },
   "outputs": [],
   "source": []
  },
  {
   "cell_type": "code",
   "execution_count": null,
   "metadata": {
    "collapsed": true
   },
   "outputs": [],
   "source": []
  },
  {
   "cell_type": "code",
   "execution_count": null,
   "metadata": {
    "collapsed": true
   },
   "outputs": [],
   "source": []
  },
  {
   "cell_type": "code",
   "execution_count": null,
   "metadata": {
    "collapsed": true
   },
   "outputs": [],
   "source": []
  },
  {
   "cell_type": "code",
   "execution_count": null,
   "metadata": {
    "collapsed": true
   },
   "outputs": [],
   "source": []
  },
  {
   "cell_type": "code",
   "execution_count": null,
   "metadata": {
    "collapsed": true
   },
   "outputs": [],
   "source": []
  },
  {
   "cell_type": "code",
   "execution_count": null,
   "metadata": {
    "collapsed": true
   },
   "outputs": [],
   "source": []
  },
  {
   "cell_type": "code",
   "execution_count": null,
   "metadata": {
    "collapsed": true
   },
   "outputs": [],
   "source": []
  },
  {
   "cell_type": "code",
   "execution_count": null,
   "metadata": {
    "collapsed": true
   },
   "outputs": [],
   "source": []
  },
  {
   "cell_type": "code",
   "execution_count": null,
   "metadata": {
    "collapsed": true
   },
   "outputs": [],
   "source": []
  },
  {
   "cell_type": "code",
   "execution_count": null,
   "metadata": {
    "collapsed": true
   },
   "outputs": [],
   "source": []
  },
  {
   "cell_type": "code",
   "execution_count": null,
   "metadata": {
    "collapsed": true
   },
   "outputs": [],
   "source": []
  },
  {
   "cell_type": "code",
   "execution_count": null,
   "metadata": {
    "collapsed": true
   },
   "outputs": [],
   "source": []
  },
  {
   "cell_type": "code",
   "execution_count": null,
   "metadata": {
    "collapsed": true
   },
   "outputs": [],
   "source": []
  },
  {
   "cell_type": "code",
   "execution_count": null,
   "metadata": {
    "collapsed": true
   },
   "outputs": [],
   "source": []
  },
  {
   "cell_type": "code",
   "execution_count": null,
   "metadata": {
    "collapsed": true
   },
   "outputs": [],
   "source": []
  },
  {
   "cell_type": "code",
   "execution_count": null,
   "metadata": {
    "collapsed": true
   },
   "outputs": [],
   "source": []
  },
  {
   "cell_type": "code",
   "execution_count": null,
   "metadata": {
    "collapsed": true
   },
   "outputs": [],
   "source": []
  },
  {
   "cell_type": "code",
   "execution_count": null,
   "metadata": {
    "collapsed": true
   },
   "outputs": [],
   "source": []
  },
  {
   "cell_type": "code",
   "execution_count": null,
   "metadata": {
    "collapsed": true
   },
   "outputs": [],
   "source": []
  },
  {
   "cell_type": "code",
   "execution_count": null,
   "metadata": {
    "collapsed": true
   },
   "outputs": [],
   "source": []
  },
  {
   "cell_type": "code",
   "execution_count": null,
   "metadata": {
    "collapsed": true
   },
   "outputs": [],
   "source": []
  },
  {
   "cell_type": "code",
   "execution_count": null,
   "metadata": {
    "collapsed": true
   },
   "outputs": [],
   "source": []
  },
  {
   "cell_type": "code",
   "execution_count": null,
   "metadata": {
    "collapsed": true
   },
   "outputs": [],
   "source": []
  },
  {
   "cell_type": "code",
   "execution_count": null,
   "metadata": {
    "collapsed": true
   },
   "outputs": [],
   "source": []
  },
  {
   "cell_type": "code",
   "execution_count": null,
   "metadata": {
    "collapsed": true
   },
   "outputs": [],
   "source": []
  },
  {
   "cell_type": "code",
   "execution_count": null,
   "metadata": {
    "collapsed": true
   },
   "outputs": [],
   "source": []
  },
  {
   "cell_type": "code",
   "execution_count": null,
   "metadata": {
    "collapsed": true
   },
   "outputs": [],
   "source": []
  },
  {
   "cell_type": "code",
   "execution_count": null,
   "metadata": {
    "collapsed": true
   },
   "outputs": [],
   "source": []
  },
  {
   "cell_type": "code",
   "execution_count": null,
   "metadata": {
    "collapsed": true
   },
   "outputs": [],
   "source": []
  },
  {
   "cell_type": "code",
   "execution_count": null,
   "metadata": {
    "collapsed": true
   },
   "outputs": [],
   "source": []
  },
  {
   "cell_type": "code",
   "execution_count": null,
   "metadata": {
    "collapsed": true
   },
   "outputs": [],
   "source": []
  },
  {
   "cell_type": "code",
   "execution_count": null,
   "metadata": {
    "collapsed": true
   },
   "outputs": [],
   "source": []
  },
  {
   "cell_type": "code",
   "execution_count": null,
   "metadata": {
    "collapsed": true
   },
   "outputs": [],
   "source": []
  },
  {
   "cell_type": "code",
   "execution_count": null,
   "metadata": {
    "collapsed": true
   },
   "outputs": [],
   "source": []
  },
  {
   "cell_type": "code",
   "execution_count": null,
   "metadata": {
    "collapsed": true
   },
   "outputs": [],
   "source": []
  },
  {
   "cell_type": "code",
   "execution_count": null,
   "metadata": {
    "collapsed": true
   },
   "outputs": [],
   "source": []
  },
  {
   "cell_type": "code",
   "execution_count": null,
   "metadata": {
    "collapsed": true
   },
   "outputs": [],
   "source": []
  },
  {
   "cell_type": "code",
   "execution_count": null,
   "metadata": {
    "collapsed": true
   },
   "outputs": [],
   "source": []
  },
  {
   "cell_type": "code",
   "execution_count": null,
   "metadata": {
    "collapsed": true
   },
   "outputs": [],
   "source": []
  },
  {
   "cell_type": "code",
   "execution_count": null,
   "metadata": {
    "collapsed": true
   },
   "outputs": [],
   "source": []
  }
 ],
 "metadata": {
  "anaconda-cloud": {},
  "kernelspec": {
   "display_name": "Python [Anaconda3]",
   "language": "python",
   "name": "Python [Anaconda3]"
  },
  "language_info": {
   "codemirror_mode": {
    "name": "ipython",
    "version": 3
   },
   "file_extension": ".py",
   "mimetype": "text/x-python",
   "name": "python",
   "nbconvert_exporter": "python",
   "pygments_lexer": "ipython3",
   "version": "3.5.2"
  }
 },
 "nbformat": 4,
 "nbformat_minor": 2
}
