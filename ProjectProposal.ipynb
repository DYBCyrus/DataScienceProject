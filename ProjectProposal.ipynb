{
 "cells": [
  {
   "cell_type": "markdown",
   "metadata": {},
   "source": [
    "# COGS 108 - Project Proposal"
   ]
  },
  {
   "cell_type": "markdown",
   "metadata": {},
   "source": [
    "## Important\n",
    "\n",
    "- Make sure all group members (3-5 people) are listed in the group members section.\n",
    "- ONE, and only one, member of your group should upload this notebook to TritonED. \n",
    "- Each member of the group will receive the same grade on this assignment. \n",
    "- Keep the file name the same: submit the file 'ProjectProposal.ipynb'"
   ]
  },
  {
   "cell_type": "markdown",
   "metadata": {},
   "source": [
    "## Overview"
   ]
  },
  {
   "cell_type": "markdown",
   "metadata": {},
   "source": [
    "Read the project description and detailed instructions for this assignment in the 'ProjectOutline' document."
   ]
  },
  {
   "cell_type": "markdown",
   "metadata": {},
   "source": [
    "## Group Members: Fill in the Student IDs of each group member here\n",
    "\n",
    "Replace the lines below to list each persons full student ID. Add lines as needed for your group size, and make sure each ID is listed on a separate line. \n",
    "\n",
    "- A13801210\n",
    "- A14057703\n",
    "- A92048017\n",
    "- A13712124\n",
    "- A14128051"
   ]
  },
  {
   "cell_type": "markdown",
   "metadata": {},
   "source": [
    "### Research Question\n",
    "\n",
    "What is your research question? (1-2 sentences)"
   ]
  },
  {
   "cell_type": "markdown",
   "metadata": {},
   "source": [
    "What is the relationship between movie awards, such as Oscar, and the public reviews of the movie? More specifically we want to know that whether award-winning movies always get positive feedbacks from its viewers, and if the correlations will be different under different movie genres, languages, themes or time periods?"
   ]
  },
  {
   "cell_type": "markdown",
   "metadata": {},
   "source": [
    "### Hypothesis\n",
    "\n",
    "What is your main hypothesis and predictions? (2-3 sentences)"
   ]
  },
  {
   "cell_type": "markdown",
   "metadata": {},
   "source": [
    "We predict that the Oscar award does not have a strong relationships with the viewers ratings. In other words, the winners of Academy award for the best picture, though almost never get too low in rating, were usually not listed the highest on IMDB that year, while the IMDB most favorable movies seldom ended up winnning the best picture award."
   ]
  },
  {
   "cell_type": "markdown",
   "metadata": {},
   "source": [
    "### Dataset(s)\n",
    "\n",
    "What data will you use to answer your question? Describe the dataset(s) in terms of number of observations, what kind of features it contains, etc. You must use at least one dataset containing at least approximately 1000 observations (if your data are smaller but you feel they are sufficient, email Prof. Voytek). You are welcome (and in fact recommended) to find multiple datasets! If you do so, describe each one, and briefly explain how you will combine them together. "
   ]
  },
  {
   "cell_type": "markdown",
   "metadata": {},
   "source": [
    "*Fill in your dataset information here*\n",
    "\n",
    "- Dataset Name: IMDB data from 2006 to 2016\n",
    "- Link to the dataset: https://www.kaggle.com/PromptCloudHQ/imdb-data\n",
    "- Number of observations: 1000\n",
    "- Observation includes the following attributes of the movies: Title, Genre, Description, Director, Actors, Year, Runtime, Rating, Votes, Revenue, Metascrore\n",
    "- Dataset Name: The Academy Awards, 1927-2015\n",
    "- Link to the dataset: https://www.kaggle.com/theacademy/academy-awards/data\n",
    "- Number of observations: 9964\n",
    "- Each observation includes the following attributes of the movies: Year, Ceremony, Awards, Winner, Name, Film\n",
    "\n",
    "TODO: If you plan to use multiple datasets, add 1-2 sentences about how you plan to combine these datasets.\n",
    "\n",
    "We want to further discover datasets of awards movies so that we can compare them with the IMDb dataset. "
   ]
  },
  {
   "cell_type": "markdown",
   "metadata": {},
   "source": [
    "### Background and Prior Work\n",
    "\n",
    "Why is this question of interest, what background information led you to your hypothesis, and why is this important?\n",
    "\n",
    "Find some relevant prior work, and reference those sources. Even if you think you have a totally novel question, find the most similar prior work that you can and discuss how it relates to your project. \n",
    "\n",
    "References can be research publications, but they need not be. Blogs, github repositories, company websites, etc., are all viable references if they are relevant to your project.\n",
    "\n",
    "(2-3 paragraphs, including at least 2 references)"
   ]
  },
  {
   "cell_type": "markdown",
   "metadata": {},
   "source": [
    "*Fill in your background and prior work here* \n",
    "\n",
    "References (include links):\n",
    "- 1) https://www.quora.com/What-is-the-lowest-IMDb-rated-movie-that-won-an-Oscar\n",
    "- 2) http://www.metacritic.com/feature/how-often-does-the-best-film-win-the-best-picture-oscar\n",
    "\n",
    "- The first reference lists out the worst oscar-winning movies' rating on IMDB (particularly, those whose rating were under 7.0), giving us a visualization on how large the portion of moderate-rated movies actually won the Oscar best picture. Deducing from the fact that no best picture get a rating lower than 7.2 ever since 1964, we predict that the best picture are usually not too bad in terms of viewers' taste. \n",
    "- However, as the second reference points out, the chance of the highest rating movies on IMDB winning the Academy Award is as low as 15%. This leads us to another prediction that high rating from the viewers does not garantee an Oscar best picture award. "
   ]
  },
  {
   "cell_type": "markdown",
   "metadata": {},
   "source": [
    "### Proposed Methods\n",
    "\n",
    "What methods will you use to analyze your data?\n",
    "\n",
    "- How 'clean' is the data? To the extent that it requires cleaning, how will you do so?\n",
    "- How will you analyze the data? Be as specific as you can. Briefly mention any pre-processing steps that are required for your methods (for example, checking data distributions and performing any transformations that may be required). Include a brief outline of how you will apply your chosen method(s). \n",
    "- What do you plan to report? Briefly mention any key visualizations you plan to create, and/or the kind of results you will be able to report that address your question (this could be, for example, the outcome of some statistical test(s), prediction error on a model, a model fit parameter, etc.).\n",
    "- Include a list of packages you expect to use for you project. If you plan to use packages we have not used in class, add a very brief description about them (a few words is sufficient). "
   ]
  },
  {
   "cell_type": "markdown",
   "metadata": {},
   "source": [
    "*Fill in your proposed methods information here:*\n",
    "\n",
    "*Data Cleaning (2-3 sentences)*\n",
    "\n",
    "If the dataset requires cleaning, we would first clean out the duplicates data and wrong-formated data. Then we would try to change the scale of some data in order to fit the other dataset. We also want to clean out the outliers. And if the data is not normal, we need to log-transform our data.  \n",
    "\n",
    "*Data Analysis (1-2 paragraphs)*\n",
    "\n",
    "We want to visualize our data. We want to plot the \"normalized\" data with the compare to different variables(different histogram), and we also want to use the scatter-matrix method in panda to plot the overall graph.\n",
    "\n",
    "After getting visualization, we want to find correlations among variables, in order to find a \"strong\" or \"weak\" relationship for the variables we are interested in. Once we get our prediction model, we can apply our predicted function to our model so that we can generate a rough prediction.\n",
    "\n",
    "\n",
    "*What to report (2-3 sentences)*\n",
    "\n",
    "We plan to create few histograms representing the relationship between IMDb highest rating movies and Oscar movies in one year. For example, we plan to create one histogram which represents the percentage of Oscar movies in the first 50 highest rating IMDb movies. We want to reach to a prediction model about how many Oscar movies will be liked by IMDb users.\n",
    "\n",
    "\n",
    "Packages we plan to use:\n",
    "- Pandas\n",
    "- Numpy\n",
    "- Scipy\n",
    "- Matplot\n",
    "- Beautifulsoup"
   ]
  },
  {
   "cell_type": "markdown",
   "metadata": {},
   "source": [
    "### Ethics and Privacy\n",
    "\n",
    "Briefly acknowledge and address any potential issues of ethics and privacy for the proposed project. In particular:\n",
    "- Do you have permission to use this data, for this purpose?\n",
    "- Are there privacy concerns regarding your datasets that you need to deal with, and/or terms of use that you need to comply with?\n",
    "- Are there potential biases in your dataset(s), in terms of who it composes, and how it was collected, that may be problematic in terms of it allowing for equitable analysis? (For example, does your data exclude particular populations, or is it likely to reflect particular human biases in a way that could be a problem?) \n",
    "- Are there any other issues related to your topic area, data, and/or analyses that are potentially problematic in terms of data privacy and equitable impact?\n",
    "- How will you handle any issues you identify?\n",
    "\n",
    "The dataset is provided publicly on the website of kaggle, so we assume that we have the permission of using it. Currently, we do not find any privacy concerns about these datasets according to the Safe Harbour rule. The information of the movies are public, so there is no concern about privacy. The personal information, such as names, emails of the raters are not provided by these datasets.\n",
    "\n",
    "We think there are 3 main bias from exploring the preview of this dataset: \n",
    "The limitation of language, time period and the ratings themselves. \n",
    "Firstly, more than 70% of the movies are English speaking movies, which exclude parts of movies in other language. The similar problem also exists in the rater side. As an English-based website, IMDb fails to include the opinion of peoples from non-English speaking countries. \n",
    "Secondly, almost all selected movies are produced between 2006 and 2016, which exclude movies produced in 20 century. However, these movies consist a considerable large portion of the top 50 rated movie list on IMDB website. \n",
    "Thirdly, since IMDb is a public site that everyone can edit and comment, it is possible that some high-rating movies are rated by a group of fans and they might sabotage the accuracy of the rating. \n",
    "\n",
    "Currently, we do not find any other issues. \n",
    "To handle the issues we discovered, for the limited time period, we want to find more datasets to fill the lack of data before 2006; for the limited movie languages, we will try to find datasets including the information of foreign movies, or we just focus on the English language movies specifically to avoid this bias; for the rating issue, it is the hardest thing to deal with. We want to try our best to avoid those notorious movies that have been unfairly rated and clean out outliers. "
   ]
  },
  {
   "cell_type": "markdown",
   "metadata": {},
   "source": [
    "### Discussion\n",
    "\n",
    "Discuss your project, looking forward to what your results might mean, how they fit it in with what is already known, and what problems you may encounter. \n",
    "\n",
    "In particular:\n",
    "- If your analyses and hypotheses are correct, what will be the contribution of this project to the topic domain? \n",
    "- Alternatively, what will you do if you methods don't work and/or your hypotheses are wrong? \n",
    "- What are the potential pitfalls and potential confounds of your data and/or methods that may cause problems, and/or influence your interpretations?\n",
    "\n",
    "(2-3 paragraphs)"
   ]
  },
  {
   "cell_type": "markdown",
   "metadata": {},
   "source": [
    "As we all know, winning Oscar boosts a movie’s reputation hugely. Best picture award is always deemed as a quality-guarantee for a movie. If our hypothesis is correct, it means that the public’s taste of a movie may not match up with that of Academy’s. The IMDb ratings provide a highly democratic public reviews to movies and more importantly, they evolved over time. The tenuous correlation between IMDb ratings and award-winning movies indicates that, through other sources, like IMDb communities, we are more likely to find “good” movies. It also means that rating communities like IMDb are more consistent with the public’s opinions.\n",
    "\n",
    "If our hypotheses are wrong, then it means that Oscars awards are matching up with the public reviews in IMDb quite well. It is a good sign that Academy is in touch with the public and movies have a standard that stands out with a good quality acceptable to both the public and the Academy. Thus, Oscars are indeed an important indication of movies merit.\n",
    "\n",
    "We are trying to infer the correlation of public opinion and the Academy award. However, since IMDb is only one of the rating platforms, it is almost impossible to represent the whole group of movie viewers, as people of different tastes might be inclined to different rating platforms, like rotten tomatoes and etc. Hence, we expect our data to be biased.\n",
    "We also need to take into account the number of people that are rating a particular movie. If, say, a movie only received roughly 20 reviews or ratings,  it is very likely that this rating is inaccurate and we may want to drop this ratings to ensure our accuracy. \n"
   ]
  }
 ],
 "metadata": {
  "kernelspec": {
   "display_name": "Python 3",
   "language": "python",
   "name": "python3"
  },
  "language_info": {
   "codemirror_mode": {
    "name": "ipython",
    "version": 3
   },
   "file_extension": ".py",
   "mimetype": "text/x-python",
   "name": "python",
   "nbconvert_exporter": "python",
   "pygments_lexer": "ipython3",
   "version": "3.6.3"
  }
 },
 "nbformat": 4,
 "nbformat_minor": 2
}
